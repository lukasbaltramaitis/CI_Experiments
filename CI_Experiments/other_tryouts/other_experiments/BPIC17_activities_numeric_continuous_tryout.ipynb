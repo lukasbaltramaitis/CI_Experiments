{
 "cells": [
  {
   "cell_type": "markdown",
   "source": [
    "# BPIC2017 numeric tryout (unsuccessful, redundant)\n"
   ],
   "metadata": {
    "collapsed": false
   }
  },
  {
   "cell_type": "code",
   "execution_count": 1,
   "metadata": {
    "pycharm": {
     "is_executing": true
    }
   },
   "outputs": [
    {
     "name": "stderr",
     "output_type": "stream",
     "text": [
      "2023-04-20 13:10:04,889 - /Users/lukas/opt/anaconda3/envs/ci_experiments/lib/python3.8/site-packages/castle/algorithms/__init__.py[line:36] - INFO: You are using ``pytorch`` as the backend.\n"
     ]
    }
   ],
   "source": [
    "from CI_Experiments.config import PROJECT_DIR\n",
    "import pandas as pd\n",
    "import matplotlib.pyplot as plt\n",
    "from ylearn import Why"
   ]
  },
  {
   "cell_type": "code",
   "execution_count": 2,
   "metadata": {},
   "outputs": [],
   "source": [
    "train_path = PROJECT_DIR / \"data/other_data/BPIC2017_1/activities_numeric2/train.csv\"\n",
    "test_path = PROJECT_DIR / \"data/other_data/BPIC2017_1/activities_numeric2/test.csv\""
   ]
  },
  {
   "cell_type": "code",
   "execution_count": 3,
   "metadata": {},
   "outputs": [],
   "source": [
    "train_path2 = PROJECT_DIR / \"data/other_data/BPIC2017_1/activities2/train.csv\"\n",
    "test_path2 = PROJECT_DIR / \"data/other_data/BPIC2017_1/activities2/test.csv\""
   ]
  },
  {
   "cell_type": "code",
   "execution_count": null,
   "metadata": {},
   "outputs": [],
   "source": [
    "train_data = pd.read_csv(train_path)\n",
    "train_data.head()"
   ]
  },
  {
   "cell_type": "code",
   "execution_count": null,
   "outputs": [],
   "source": [
    "test_data = pd.read_csv(test_path)\n",
    "test_data.head()"
   ],
   "metadata": {
    "collapsed": false,
    "pycharm": {
     "name": "#%%\n"
    }
   }
  },
  {
   "cell_type": "code",
   "execution_count": null,
   "metadata": {},
   "outputs": [],
   "source": [
    "why3 = Why(discrete_outcome=True, discrete_treatment=False, identifier='pgm', random_state=23, estimator='bound')\n",
    "r3 = why3.identify(train_data, 'Outcome')\n",
    "r3"
   ]
  },
  {
   "cell_type": "code",
   "execution_count": null,
   "metadata": {},
   "outputs": [],
   "source": [
    "why3 = Why(discrete_outcome=True, discrete_treatment=False, identifier='pgm', random_state=23, estimator='div')\n",
    "why3.fit(train_data, 'Outcome', treatment='CreditScore')"
   ]
  },
  {
   "cell_type": "code",
   "execution_count": null,
   "metadata": {},
   "outputs": [],
   "source": [
    "cov = ['RequestedAmount',\n",
    "  'FirstWithdrawalAmount',\n",
    "  'MonthlyCost',\n",
    "  'NumberOfTerms',\n",
    "  'OfferedAmount',\n",
    "  'open_cases',\n",
    "  'Activity_A_Accepted',\n",
    "  'Activity_A_Cancelled',\n",
    "  'Activity_A_Complete',\n",
    "  'Activity_A_Concept',\n",
    "  'Activity_A_Create Application',\n",
    "  'Activity_A_Denied',\n",
    "  'Activity_A_Incomplete',\n",
    "  'Activity_A_Pending',\n",
    "  'Activity_A_Submitted',\n",
    "  'Activity_A_Validating',\n",
    "  'Activity_O_Accepted',\n",
    "  'Activity_O_Cancelled',\n",
    "  'Activity_O_Create Offer',\n",
    "  'Activity_O_Created',\n",
    "  'Activity_O_Refused',\n",
    "  'Activity_O_Returned',\n",
    "  'Activity_O_Sent (mail and online)',\n",
    "  'Activity_O_Sent (online only)',\n",
    "  'Activity_W_Assess potential fraud',\n",
    "  'Activity_W_Call after offers',\n",
    "  'Activity_W_Call incomplete files',\n",
    "  'Activity_W_Complete application',\n",
    "  'Activity_W_Handle leads',\n",
    "  'Activity_W_Personal Loan collection',\n",
    "  'Activity_W_Shortened completion ',\n",
    "  'Activity_W_Validate application']"
   ]
  },
  {
   "cell_type": "code",
   "execution_count": null,
   "metadata": {},
   "outputs": [],
   "source": [
    "from xgboost.sklearn import XGBRegressor"
   ]
  },
  {
   "cell_type": "code",
   "execution_count": null,
   "metadata": {},
   "outputs": [],
   "source": [
    "from ylearn.estimator_model.double_ml import DoubleML\n",
    "x = XGBRegressor()\n",
    "y = XGBRegressor()\n",
    "dml = DoubleML(x_model=x, y_model=y, random_state=23, is_discrete_treatment=False)\n",
    "dml.fit(train_data, 'Outcome', treatment='CreditScore', covariate=cov)"
   ]
  },
  {
   "cell_type": "code",
   "execution_count": null,
   "metadata": {},
   "outputs": [],
   "source": [
    "dml.estimate(data=test_data, quantity='CATE')"
   ]
  },
  {
   "cell_type": "code",
   "execution_count": null,
   "metadata": {},
   "outputs": [],
   "source": [
    "dml.estimate(data=test_data, quantity='ATE')"
   ]
  },
  {
   "cell_type": "code",
   "execution_count": null,
   "metadata": {},
   "outputs": [],
   "source": [
    "def calc_and_plot_qini(why_, test_data_, treatment):\n",
    "    uplift = why_.uplift_model(test_data_, treatment=treatment)\n",
    "    qini_ = uplift.get_qini()\n",
    "    top_ = qini_[qini.columns[0]].iat[-1]\n",
    "    idx_ = qini_.index[-1]\n",
    "    plt.plot(qini_.index, qini_[qini_.columns[0]], label=treatment)\n",
    "    plt.plot((0, idx_), (0, top_), label='random')\n",
    "    plt.xlabel('Population')\n",
    "    plt.ylabel('Qini')\n",
    "    plt.legend()\n",
    "    plt.show()"
   ]
  },
  {
   "cell_type": "code",
   "execution_count": null,
   "metadata": {},
   "outputs": [],
   "source": [
    "calc_and_plot_qini(why3, test_data, 'CreditScore')"
   ]
  },
  {
   "cell_type": "code",
   "execution_count": null,
   "metadata": {},
   "outputs": [],
   "source": [
    "why = Why(discrete_outcome=True, discrete_treatment=False, identifier='notears', random_state=23, estimator='bound')\n",
    "r = why.identify(train_data, 'Outcome')\n",
    "r"
   ]
  },
  {
   "cell_type": "code",
   "execution_count": null,
   "metadata": {},
   "outputs": [],
   "source": [
    "why2 = Why(discrete_outcome=True, discrete_treatment=False, identifier='gcastle', random_state=23, estimator='bound')\n",
    "r2 = why.identify(train_data, 'Outcome')\n",
    "r2"
   ]
  },
  {
   "cell_type": "markdown",
   "metadata": {},
   "source": [
    "## Only activites (target encoded)"
   ]
  },
  {
   "cell_type": "code",
   "execution_count": null,
   "metadata": {},
   "outputs": [],
   "source": [
    "train_data2 = pd.read_csv(train_path2)\n",
    "train_data2.head()"
   ]
  },
  {
   "cell_type": "code",
   "execution_count": null,
   "metadata": {},
   "outputs": [],
   "source": [
    "why21 = Why(discrete_outcome=True, discrete_treatment=False, identifier='pgm', random_state=23, estimator='bound', \n",
    "           identifier_options={'max_cond_vars': 50})\n",
    "r21 = why21.identify(train_data2, 'Outcome')\n",
    "r21"
   ]
  },
  {
   "cell_type": "code",
   "execution_count": null,
   "metadata": {},
   "outputs": [],
   "source": [
    "why22 = Why(discrete_outcome=True, discrete_treatment=False, identifier='notears', random_state=23, estimator='bound')\n",
    "r22 = why22.identify(train_data2, 'Outcome')\n",
    "r22"
   ]
  },
  {
   "cell_type": "code",
   "execution_count": null,
   "metadata": {},
   "outputs": [],
   "source": [
    "why23 = Why(discrete_outcome=True, discrete_treatment=False, identifier='gcastle', random_state=23, estimator='bound')\n",
    "r23 = why23.identify(train_data2, 'Outcome')\n",
    "r23"
   ]
  },
  {
   "cell_type": "markdown",
   "metadata": {},
   "source": [
    "## Uplift"
   ]
  },
  {
   "cell_type": "code",
   "execution_count": null,
   "metadata": {},
   "outputs": [],
   "source": [
    "# import approaches\n",
    "from sklift.models import SoloModel\n",
    "from lightgbm import LGBMClassifier\n",
    "import numpy as np"
   ]
  },
  {
   "cell_type": "code",
   "execution_count": null,
   "metadata": {},
   "outputs": [],
   "source": [
    "data_ = train_data2.copy()\n",
    "data_.head()"
   ]
  },
  {
   "cell_type": "code",
   "execution_count": null,
   "outputs": [],
   "source": [
    "test_data2 = pd.read_csv(test_path2)\n",
    "test_data2.head()"
   ],
   "metadata": {
    "collapsed": false,
    "pycharm": {
     "name": "#%%\n"
    }
   }
  },
  {
   "cell_type": "code",
   "execution_count": null,
   "metadata": {},
   "outputs": [],
   "source": [
    "data_['treatment'] = np.where(train_data['Activity_W_Validate application'] > 0, 1, 0)\n",
    "data_['treatment'].head()"
   ]
  },
  {
   "cell_type": "code",
   "execution_count": null,
   "metadata": {},
   "outputs": [],
   "source": [
    "X_cols = list(data_.columns)\n",
    "X_cols.remove('Activity_W_Validate application')\n",
    "X_cols"
   ]
  },
  {
   "cell_type": "code",
   "execution_count": null,
   "metadata": {},
   "outputs": [],
   "source": [
    "data_ = data_[X_cols]\n",
    "data_.head()"
   ]
  },
  {
   "cell_type": "code",
   "execution_count": null,
   "metadata": {},
   "outputs": [],
   "source": [
    "cov = [\n",
    "  'Activity_A_Accepted',\n",
    "  'Activity_A_Cancelled',\n",
    "  'Activity_A_Complete',\n",
    "  'Activity_A_Concept',\n",
    "  'Activity_A_Denied',\n",
    "  'Activity_A_Incomplete',\n",
    "  'Activity_A_Pending',\n",
    "  'Activity_A_Submitted',\n",
    "  'Activity_A_Validating',\n",
    "  'Activity_O_Cancelled',\n",
    "  'Activity_O_Create Offer',\n",
    "  'Activity_O_Created',\n",
    "  'Activity_O_Refused',\n",
    "  'Activity_O_Returned',\n",
    "  'Activity_O_Sent (mail and online)',\n",
    "  'Activity_O_Sent (online only)',\n",
    "  'Activity_W_Assess potential fraud',\n",
    "  'Activity_W_Call after offers',\n",
    "  'Activity_W_Call incomplete files',\n",
    "  'Activity_W_Handle leads',\n",
    "  'Activity_W_Personal Loan collection',\n",
    "  'Activity_W_Shortened completion '\n",
    "]"
   ]
  },
  {
   "cell_type": "code",
   "execution_count": null,
   "metadata": {},
   "outputs": [],
   "source": [
    "why_31 = Why(random_state=23)\n",
    "why_31 = why_31.fit(data_.copy(), outcome='Outcome', treatment='treatment', covariate=cov)"
   ]
  },
  {
   "cell_type": "code",
   "execution_count": null,
   "metadata": {},
   "outputs": [],
   "source": [
    "t_data_ = test_data2.copy()\n",
    "t_data_.head()"
   ]
  },
  {
   "cell_type": "code",
   "execution_count": null,
   "metadata": {},
   "outputs": [],
   "source": [
    "t_data_['treatment'] = np.where(t_data_['Activity_W_Validate application'] > 0, 1, 0)\n",
    "t_data_['treatment'].head()"
   ]
  },
  {
   "cell_type": "code",
   "execution_count": null,
   "metadata": {},
   "outputs": [],
   "source": [
    "t_data_ = t_data_[X_cols]\n",
    "t_data_.head()"
   ]
  },
  {
   "cell_type": "code",
   "execution_count": null,
   "metadata": {},
   "outputs": [],
   "source": [
    "um = why_31.uplift_model(test_data=t_data_, treatment='treatment', random='random', name='Activity_W_Validate application=1')"
   ]
  },
  {
   "cell_type": "code",
   "execution_count": null,
   "metadata": {},
   "outputs": [],
   "source": [
    "um.get_qini()"
   ]
  },
  {
   "cell_type": "code",
   "execution_count": null,
   "metadata": {},
   "outputs": [],
   "source": [
    "qini = um.get_qini()\n",
    "top = qini[qini.columns[0]].iat[-1]\n",
    "idx = qini.index[-1]\n",
    "plt.plot(qini.index, qini[qini.columns[0]], label='1')\n",
    "plt.plot((0, idx), (0, top), label='random')\n",
    "plt.xlabel('Population')\n",
    "plt.ylabel('Qini')\n",
    "plt.legend()\n",
    "plt.show()"
   ]
  },
  {
   "cell_type": "code",
   "execution_count": null,
   "metadata": {},
   "outputs": [],
   "source": [
    "um.plot_qini()"
   ]
  },
  {
   "cell_type": "code",
   "execution_count": null,
   "metadata": {},
   "outputs": [],
   "source": [
    "t_data = test_data2.copy()\n",
    "t_data['treatment'] = np.where(t_data['Activity_W_Validate application'] > 0, 1, 0)\n",
    "t_data['treatment'].head()"
   ]
  },
  {
   "cell_type": "code",
   "execution_count": null,
   "metadata": {},
   "outputs": [],
   "source": [
    "t_data_X = t_data[X_cols]\n",
    "t_data_X.head()"
   ]
  },
  {
   "cell_type": "code",
   "execution_count": null,
   "metadata": {},
   "outputs": [],
   "source": [
    "t_Y = t_data['Outcome']\n",
    "t_Y.head()"
   ]
  },
  {
   "cell_type": "code",
   "execution_count": null,
   "metadata": {},
   "outputs": [],
   "source": [
    "t_treat = t_data['treatment']\n",
    "t_treat.head()"
   ]
  },
  {
   "cell_type": "code",
   "execution_count": null,
   "metadata": {},
   "outputs": [],
   "source": [
    "# define models\n",
    "estimator = LGBMClassifier(n_estimators=10)\n",
    "\n",
    "# define metamodel\n",
    "slearner = SoloModel(estimator=estimator)\n",
    "\n",
    "\n",
    "# fit model\n",
    "slearner.fit(\n",
    "    X=t_data_X.to_numpy(),\n",
    "    y=t_Y.to_numpy(),\n",
    "    treatment=t_treat.to_numpy(),\n",
    ")\n",
    "\n",
    "# predict uplift\n",
    "uplift_slearner = slearner.predict(t_data_X.to_numpy())\n"
   ]
  },
  {
   "cell_type": "code",
   "execution_count": null,
   "metadata": {},
   "outputs": [],
   "source": [
    "from sklift.viz import plot_qini_curve\n",
    "import matplotlib.pyplot as plt"
   ]
  },
  {
   "cell_type": "code",
   "execution_count": null,
   "metadata": {},
   "outputs": [],
   "source": [
    "fig, ax = plt.subplots(1, 1)\n",
    "ax.set_title('Qini curves')\n",
    "\n",
    "plot_qini_curve(\n",
    "    t_Y, uplift_slearner, t_treat, name='Slearner', ax=ax\n",
    ");"
   ]
  },
  {
   "cell_type": "code",
   "execution_count": null,
   "metadata": {},
   "outputs": [],
   "source": [
    "t_data_X"
   ]
  },
  {
   "cell_type": "code",
   "execution_count": null,
   "metadata": {},
   "outputs": [],
   "source": []
  }
 ],
 "metadata": {
  "kernelspec": {
   "display_name": "Python 3 (ipykernel)",
   "language": "python",
   "name": "python3"
  },
  "language_info": {
   "codemirror_mode": {
    "name": "ipython",
    "version": 3
   },
   "file_extension": ".py",
   "mimetype": "text/x-python",
   "name": "python",
   "nbconvert_exporter": "python",
   "pygments_lexer": "ipython3",
   "version": "3.8.16"
  }
 },
 "nbformat": 4,
 "nbformat_minor": 1
}
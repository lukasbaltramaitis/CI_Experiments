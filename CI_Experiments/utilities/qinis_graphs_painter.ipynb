{
 "cells": [
  {
   "cell_type": "markdown",
   "source": [
    "# Functions with more configuration for the qinis graphs draw"
   ],
   "metadata": {
    "collapsed": false
   }
  },
  {
   "cell_type": "code",
   "execution_count": null,
   "outputs": [],
   "source": [
    "# Skip this cell, at first\n",
    "import os\n",
    "os.chdir('../..')\n",
    "os.getcwd()"
   ],
   "metadata": {
    "collapsed": false,
    "pycharm": {
     "name": "#%%\n"
    }
   }
  },
  {
   "cell_type": "code",
   "execution_count": null,
   "outputs": [],
   "source": [
    "import pandas as pd\n",
    "import matplotlib.pyplot as plt\n",
    "from CI_Experiments.config import PROJECT_DIR"
   ],
   "metadata": {
    "collapsed": false,
    "pycharm": {
     "name": "#%%\n"
    }
   }
  },
  {
   "cell_type": "code",
   "execution_count": null,
   "outputs": [],
   "source": [
    "QINI_PATH = PROJECT_DIR / 'experiments/results/BPIC2017/activity_time/qinis.csv'\n",
    "qinis = pd.read_csv(QINI_PATH)\n",
    "qinis"
   ],
   "metadata": {
    "collapsed": false,
    "pycharm": {
     "name": "#%%\n"
    }
   }
  },
  {
   "cell_type": "code",
   "execution_count": null,
   "outputs": [],
   "source": [
    "def draw_qinis_subplots(qinis_: pd.DataFrame):\n",
    "    nr_of_qinis = int(len(qinis_.columns) / 2)\n",
    "    nr_of_models = len(set([col.split('__')[0] for col in qinis_.columns]))\n",
    "    nr_of_treatments = int(nr_of_qinis / nr_of_models)\n",
    "    fig, axs = plt.subplots(nr_of_treatments, nr_of_models, figsize=(3 * nr_of_models, 3 * nr_of_treatments), sharey=False)\n",
    "    for i in range(nr_of_treatments):\n",
    "        for j in range(nr_of_models):\n",
    "            ax = axs[i][j]\n",
    "            index = (i + j * nr_of_treatments) * 2\n",
    "            x_axis_name = qinis_.columns[index].split('__')[0]\n",
    "            y_axis_name = str(qinis_.columns[index].split('__')[-1]).replace('_treatment', '').replace('Activity_', '')\n",
    "            qini = qinis_[qinis_.columns[index]]\n",
    "            random = qinis_[qinis_.columns[index + 1]]\n",
    "            ax.plot(qini.index, qini, label='estimator')\n",
    "            ax.plot(random.index, random, label='random')\n",
    "            ax.legend()\n",
    "            ax.set(xlabel=x_axis_name, ylabel=y_axis_name)\n",
    "            ax.label_outer()\n",
    "\n",
    "\n",
    "def draw_qinis_compare(qinis_):\n",
    "    nr_of_qinis = int(len(qinis_.columns) / 2)\n",
    "    nr_of_models = len(set([col.split('__')[0] for col in qinis_.columns]))\n",
    "    nr_of_treatments = int(nr_of_qinis / nr_of_models)\n",
    "    fig, axs = plt.subplots(1, nr_of_treatments, figsize=(5 * nr_of_treatments, 5))\n",
    "    for i in range(nr_of_treatments):\n",
    "        ax = axs[i]\n",
    "        for j in range(nr_of_models):\n",
    "            index = (j * nr_of_models + i) * 2\n",
    "            qini = qinis_[qinis_.columns[index]]\n",
    "            name = qini.name.split('__')[0]\n",
    "            ax.plot(qini.index, qini, label=name)\n",
    "        random_idx = 2 * i + 1\n",
    "        random = qinis_[qinis_.columns[random_idx]]\n",
    "        title = random.name.split('__')[1]\n",
    "        ax.set_title(title)\n",
    "        ax.plot(random.index, random, label='random')\n",
    "        ax.set(xlabel='Population', ylabel='Number of incremental outcome')\n",
    "        ax.legend(title='Estimators')\n"
   ],
   "metadata": {
    "collapsed": false,
    "pycharm": {
     "name": "#%%\n"
    }
   }
  },
  {
   "cell_type": "code",
   "execution_count": null,
   "outputs": [],
   "source": [
    "draw_qinis_subplots(qinis)\n"
   ],
   "metadata": {
    "collapsed": false,
    "pycharm": {
     "name": "#%%\n"
    }
   }
  },
  {
   "cell_type": "code",
   "execution_count": null,
   "outputs": [],
   "source": [
    "draw_qinis_compare(qinis)\n"
   ],
   "metadata": {
    "collapsed": false,
    "pycharm": {
     "name": "#%%\n"
    }
   }
  },
  {
   "cell_type": "code",
   "execution_count": null,
   "outputs": [],
   "source": [],
   "metadata": {
    "collapsed": false,
    "pycharm": {
     "name": "#%%\n"
    }
   }
  }
 ],
 "metadata": {
  "kernelspec": {
   "display_name": "Python 3 (ipykernel)",
   "language": "python",
   "name": "python3"
  },
  "language_info": {
   "codemirror_mode": {
    "name": "ipython",
    "version": 3
   },
   "file_extension": ".py",
   "mimetype": "text/x-python",
   "name": "python",
   "nbconvert_exporter": "python",
   "pygments_lexer": "ipython3",
   "version": "3.8.16"
  }
 },
 "nbformat": 4,
 "nbformat_minor": 1
}
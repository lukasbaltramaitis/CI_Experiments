{
 "cells": [
  {
   "attachments": {},
   "cell_type": "markdown",
   "metadata": {},
   "source": [
    "# BPIC17 experiment launcher"
   ]
  },
  {
   "attachments": {},
   "cell_type": "markdown",
   "metadata": {},
   "source": [
    "## Dependencies"
   ]
  },
  {
   "cell_type": "code",
   "execution_count": 1,
   "metadata": {},
   "outputs": [
    {
     "name": "stderr",
     "output_type": "stream",
     "text": [
      "c:\\Users\\Lukas\\miniconda3\\envs\\ci_experiments\\lib\\site-packages\\tqdm\\auto.py:21: TqdmWarning: IProgress not found. Please update jupyter and ipywidgets. See https://ipywidgets.readthedocs.io/en/stable/user_install.html\n",
      "  from .autonotebook import tqdm as notebook_tqdm\n",
      "No GPU automatically detected. Setting SETTINGS.GPU to 0, and SETTINGS.NJOBS to cpu_count.\n"
     ]
    }
   ],
   "source": [
    "import sys\n",
    "sys.path.append(r\"C:\\Users\\Lukas\\CI_Experiments\\CI_Experiments\")\n",
    "from source.experiment import Experiment\n",
    "from source.params import DiscoverParams, EstimateParams, ApproachEstimateParams"
   ]
  },
  {
   "attachments": {},
   "cell_type": "markdown",
   "metadata": {},
   "source": [
    "## Constants"
   ]
  },
  {
   "cell_type": "code",
   "execution_count": 2,
   "metadata": {},
   "outputs": [],
   "source": [
    "DATASET_NAME = 'BPIC_17'\n",
    "PATH_TO_RESULTS_DIR = r\"C:\\Users\\Lukas\\CI_Experiments\\CI_Experiments\\results\"\n",
    "PATH_TO_DATASETS_DIR = r\"C:\\Users\\Lukas\\CI_Experiments\\CI_Experiments\\data\\prepared_process_logs\""
   ]
  },
  {
   "attachments": {},
   "cell_type": "markdown",
   "metadata": {},
   "source": [
    "## Experiment"
   ]
  },
  {
   "cell_type": "code",
   "execution_count": 3,
   "metadata": {},
   "outputs": [],
   "source": [
    "e = Experiment(path_to_datasets_dir=PATH_TO_DATASETS_DIR, path_to_results_dir=PATH_TO_RESULTS_DIR, dataset_name=DATASET_NAME)"
   ]
  },
  {
   "cell_type": "code",
   "execution_count": 4,
   "metadata": {},
   "outputs": [],
   "source": [
    "dp = DiscoverParams(\n",
    "    print_results=True, \n",
    "    hidden_layer_dim=[3], \n",
    "    treshold=0.01, \n",
    "    compare_with_true_graph=False,\n",
    ")"
   ]
  },
  {
   "cell_type": "code",
   "execution_count": 5,
   "metadata": {},
   "outputs": [
    {
     "ename": "ImportError",
     "evalue": "requires pygraphviz http://pygraphviz.github.io/",
     "output_type": "error",
     "traceback": [
      "\u001b[1;31m---------------------------------------------------------------------------\u001b[0m",
      "\u001b[1;31mModuleNotFoundError\u001b[0m                       Traceback (most recent call last)",
      "File \u001b[1;32mc:\\Users\\Lukas\\miniconda3\\envs\\ci_experiments\\lib\\site-packages\\networkx\\drawing\\nx_agraph.py:295\u001b[0m, in \u001b[0;36mpygraphviz_layout\u001b[1;34m(G, prog, root, args)\u001b[0m\n\u001b[0;32m    294\u001b[0m \u001b[39mtry\u001b[39;00m:\n\u001b[1;32m--> 295\u001b[0m     \u001b[39mimport\u001b[39;00m \u001b[39mpygraphviz\u001b[39;00m\n\u001b[0;32m    296\u001b[0m \u001b[39mexcept\u001b[39;00m \u001b[39mImportError\u001b[39;00m \u001b[39mas\u001b[39;00m err:\n",
      "\u001b[1;31mModuleNotFoundError\u001b[0m: No module named 'pygraphviz'",
      "\nThe above exception was the direct cause of the following exception:\n",
      "\u001b[1;31mImportError\u001b[0m                               Traceback (most recent call last)",
      "Cell \u001b[1;32mIn[5], line 1\u001b[0m\n\u001b[1;32m----> 1\u001b[0m e\u001b[39m.\u001b[39;49mdiscover(discover_params\u001b[39m=\u001b[39;49mdp)\n",
      "File \u001b[1;32m~\\CI_Experiments\\CI_Experiments\\source\\experiment.py:75\u001b[0m, in \u001b[0;36mExperiment.discover\u001b[1;34m(self, discover_params)\u001b[0m\n\u001b[0;32m     73\u001b[0m \u001b[39mdef\u001b[39;00m \u001b[39mdiscover\u001b[39m(\u001b[39mself\u001b[39m, discover_params: DiscoverParams):\n\u001b[0;32m     74\u001b[0m     discover_params\u001b[39m.\u001b[39mpath_to_result_dir \u001b[39m=\u001b[39m \u001b[39mself\u001b[39m\u001b[39m.\u001b[39mpath_to_result_dir\n\u001b[1;32m---> 75\u001b[0m     \u001b[39mself\u001b[39;49m\u001b[39m.\u001b[39;49mdataset\u001b[39m.\u001b[39;49mdiscover(discover_params)\n",
      "File \u001b[1;32m~\\CI_Experiments\\CI_Experiments\\source\\datasets.py:173\u001b[0m, in \u001b[0;36mDataset.discover\u001b[1;34m(self, discover_params)\u001b[0m\n\u001b[0;32m    172\u001b[0m \u001b[39mdef\u001b[39;00m \u001b[39mdiscover\u001b[39m(\u001b[39mself\u001b[39m, discover_params: DiscoverParams):\n\u001b[1;32m--> 173\u001b[0m     \u001b[39mself\u001b[39;49m\u001b[39m.\u001b[39;49mactivities_dataset\u001b[39m.\u001b[39;49mdiscover(discover_params, \u001b[39mself\u001b[39;49m\u001b[39m.\u001b[39;49mtrue_graph)\n\u001b[0;32m    174\u001b[0m     \u001b[39mself\u001b[39m\u001b[39m.\u001b[39mactivities_pos_neg_dataset\u001b[39m.\u001b[39mdiscover(discover_params, \u001b[39mself\u001b[39m\u001b[39m.\u001b[39mtrue_graph)\n\u001b[0;32m    175\u001b[0m     \u001b[39mself\u001b[39m\u001b[39m.\u001b[39mactivities_numeric_dataset\u001b[39m.\u001b[39mdiscover(discover_params, \u001b[39mself\u001b[39m\u001b[39m.\u001b[39mtrue_graph)\n",
      "File \u001b[1;32m~\\CI_Experiments\\CI_Experiments\\source\\datasets.py:66\u001b[0m, in \u001b[0;36mApproachDataset.discover\u001b[1;34m(self, discover_params, true_graph)\u001b[0m\n\u001b[0;32m     63\u001b[0m \u001b[39mif\u001b[39;00m discover_params\u001b[39m.\u001b[39mcompare_with_true_graph:\n\u001b[0;32m     64\u001b[0m    \u001b[39mself\u001b[39m\u001b[39m.\u001b[39m_compare_with_true_graph(true_graph)\n\u001b[1;32m---> 66\u001b[0m \u001b[39mself\u001b[39;49m\u001b[39m.\u001b[39;49m_save_discover_results(discover_params)\n",
      "File \u001b[1;32m~\\CI_Experiments\\CI_Experiments\\source\\datasets.py:54\u001b[0m, in \u001b[0;36mApproachDataset._save_discover_results\u001b[1;34m(self, discover_params)\u001b[0m\n\u001b[0;32m     52\u001b[0m \u001b[39mdef\u001b[39;00m \u001b[39m_save_discover_results\u001b[39m(\u001b[39mself\u001b[39m, discover_params: DiscoverParams):\n\u001b[0;32m     53\u001b[0m     path_to_approach_dir \u001b[39m=\u001b[39m \u001b[39mf\u001b[39m\u001b[39m'\u001b[39m\u001b[39m{\u001b[39;00mdiscover_params\u001b[39m.\u001b[39mpath_to_result_dir\u001b[39m}\u001b[39;00m\u001b[39m/\u001b[39m\u001b[39m{\u001b[39;00m\u001b[39mself\u001b[39m\u001b[39m.\u001b[39mapproach\u001b[39m}\u001b[39;00m\u001b[39m'\u001b[39m\n\u001b[1;32m---> 54\u001b[0m     \u001b[39mself\u001b[39;49m\u001b[39m.\u001b[39;49mresults\u001b[39m.\u001b[39;49mdiscover_results\u001b[39m.\u001b[39;49msave(\u001b[39mself\u001b[39;49m\u001b[39m.\u001b[39;49mheaders, path_to_approach_dir, discover_params\u001b[39m.\u001b[39;49mprint_results)\n",
      "File \u001b[1;32m~\\CI_Experiments\\CI_Experiments\\source\\results.py:78\u001b[0m, in \u001b[0;36mDiscoverResults.save\u001b[1;34m(self, headers, path_to_approach_dir, print)\u001b[0m\n\u001b[0;32m     76\u001b[0m nodes_legend_table \u001b[39m=\u001b[39m \u001b[39mself\u001b[39m\u001b[39m.\u001b[39m_formulate_headers_as_table_row(headers)\n\u001b[0;32m     77\u001b[0m fig \u001b[39m=\u001b[39m plt\u001b[39m.\u001b[39mfigure(\u001b[39m0\u001b[39m, figsize\u001b[39m=\u001b[39m(\u001b[39m12\u001b[39m,\u001b[39m12\u001b[39m))\n\u001b[1;32m---> 78\u001b[0m nx\u001b[39m.\u001b[39mdraw_networkx(G, pos\u001b[39m=\u001b[39mnx\u001b[39m.\u001b[39;49mnx_agraph\u001b[39m.\u001b[39;49mgraphviz_layout(G, C\u001b[39m.\u001b[39;49mNEATO), arrows\u001b[39m=\u001b[39m\u001b[39mTrue\u001b[39;00m, with_labels\u001b[39m=\u001b[39m\u001b[39mTrue\u001b[39;00m)\n\u001b[0;32m     79\u001b[0m plt\u001b[39m.\u001b[39mtable(\n\u001b[0;32m     80\u001b[0m     nodes_legend_table,\n\u001b[0;32m     81\u001b[0m     cellLoc\u001b[39m=\u001b[39mC\u001b[39m.\u001b[39mGRAPH_TABLE_CELL_LOC,\n\u001b[1;32m   (...)\u001b[0m\n\u001b[0;32m     84\u001b[0m     colLabels\u001b[39m=\u001b[39mC\u001b[39m.\u001b[39mGRAPH_TABLE_HEADERS\n\u001b[0;32m     85\u001b[0m     )\n\u001b[0;32m     86\u001b[0m path_to_graph_image \u001b[39m=\u001b[39m \u001b[39mf\u001b[39m\u001b[39m'\u001b[39m\u001b[39m{\u001b[39;00mpath_to_approach_dir\u001b[39m}\u001b[39;00m\u001b[39m\\\u001b[39m\u001b[39m{\u001b[39;00mC\u001b[39m.\u001b[39mCAUSAL_GRAPH\u001b[39m}\u001b[39;00m\u001b[39m.\u001b[39m\u001b[39m{\u001b[39;00mC\u001b[39m.\u001b[39mPNG\u001b[39m}\u001b[39;00m\u001b[39m'\u001b[39m\n",
      "File \u001b[1;32mc:\\Users\\Lukas\\miniconda3\\envs\\ci_experiments\\lib\\site-packages\\networkx\\drawing\\nx_agraph.py:251\u001b[0m, in \u001b[0;36mgraphviz_layout\u001b[1;34m(G, prog, root, args)\u001b[0m\n\u001b[0;32m    220\u001b[0m \u001b[39mdef\u001b[39;00m \u001b[39mgraphviz_layout\u001b[39m(G, prog\u001b[39m=\u001b[39m\u001b[39m\"\u001b[39m\u001b[39mneato\u001b[39m\u001b[39m\"\u001b[39m, root\u001b[39m=\u001b[39m\u001b[39mNone\u001b[39;00m, args\u001b[39m=\u001b[39m\u001b[39m\"\u001b[39m\u001b[39m\"\u001b[39m):\n\u001b[0;32m    221\u001b[0m     \u001b[39m\"\"\"Create node positions for G using Graphviz.\u001b[39;00m\n\u001b[0;32m    222\u001b[0m \n\u001b[0;32m    223\u001b[0m \u001b[39m    Parameters\u001b[39;00m\n\u001b[1;32m   (...)\u001b[0m\n\u001b[0;32m    249\u001b[0m \u001b[39m    see https://gitlab.com/graphviz/graphviz/-/issues/1767 for more info.\u001b[39;00m\n\u001b[0;32m    250\u001b[0m \u001b[39m    \"\"\"\u001b[39;00m\n\u001b[1;32m--> 251\u001b[0m     \u001b[39mreturn\u001b[39;00m pygraphviz_layout(G, prog\u001b[39m=\u001b[39;49mprog, root\u001b[39m=\u001b[39;49mroot, args\u001b[39m=\u001b[39;49margs)\n",
      "File \u001b[1;32mc:\\Users\\Lukas\\miniconda3\\envs\\ci_experiments\\lib\\site-packages\\networkx\\drawing\\nx_agraph.py:297\u001b[0m, in \u001b[0;36mpygraphviz_layout\u001b[1;34m(G, prog, root, args)\u001b[0m\n\u001b[0;32m    295\u001b[0m     \u001b[39mimport\u001b[39;00m \u001b[39mpygraphviz\u001b[39;00m\n\u001b[0;32m    296\u001b[0m \u001b[39mexcept\u001b[39;00m \u001b[39mImportError\u001b[39;00m \u001b[39mas\u001b[39;00m err:\n\u001b[1;32m--> 297\u001b[0m     \u001b[39mraise\u001b[39;00m \u001b[39mImportError\u001b[39;00m(\n\u001b[0;32m    298\u001b[0m         \u001b[39m\"\u001b[39m\u001b[39mrequires pygraphviz \u001b[39m\u001b[39m\"\u001b[39m \u001b[39m\"\u001b[39m\u001b[39mhttp://pygraphviz.github.io/\u001b[39m\u001b[39m\"\u001b[39m\n\u001b[0;32m    299\u001b[0m     ) \u001b[39mfrom\u001b[39;00m \u001b[39merr\u001b[39;00m\n\u001b[0;32m    300\u001b[0m \u001b[39mif\u001b[39;00m root \u001b[39mis\u001b[39;00m \u001b[39mnot\u001b[39;00m \u001b[39mNone\u001b[39;00m:\n\u001b[0;32m    301\u001b[0m     args \u001b[39m+\u001b[39m\u001b[39m=\u001b[39m \u001b[39mf\u001b[39m\u001b[39m\"\u001b[39m\u001b[39m-Groot=\u001b[39m\u001b[39m{\u001b[39;00mroot\u001b[39m}\u001b[39;00m\u001b[39m\"\u001b[39m\n",
      "\u001b[1;31mImportError\u001b[0m: requires pygraphviz http://pygraphviz.github.io/"
     ]
    },
    {
     "data": {
      "text/plain": [
       "<Figure size 1200x1200 with 0 Axes>"
      ]
     },
     "metadata": {},
     "output_type": "display_data"
    }
   ],
   "source": [
    "e.discover(discover_params=dp)"
   ]
  },
  {
   "cell_type": "code",
   "execution_count": null,
   "metadata": {},
   "outputs": [],
   "source": [
    "activities_params = ApproachEstimateParams(\n",
    "    outcome='',\n",
    "    treatment=['']\n",
    ")\n",
    "activities_pos_neg_params = ApproachEstimateParams(\n",
    "    outcome='',\n",
    "    treatment=['']\n",
    ")\n",
    "activities_numeric_params = ApproachEstimateParams(\n",
    "    outcome='',\n",
    "    treatment=['']\n",
    ")\n",
    "activities_numeric_pos_neg_params = ApproachEstimateParams(\n",
    "    outcome='',\n",
    "    treatment=['']\n",
    ")\n",
    "ep = EstimateParams(\n",
    "    activities_params=activities_params,\n",
    "    activities_pos_neg_params=activities_pos_neg_params,\n",
    "    activities_numeric_params=activities_numeric_params,\n",
    "    activities_numeric_pos_neg_params=activities_numeric_pos_neg_params,\n",
    ")"
   ]
  },
  {
   "cell_type": "code",
   "execution_count": null,
   "metadata": {},
   "outputs": [],
   "source": [
    "e.estimate(estimate_params=ep)"
   ]
  }
 ],
 "metadata": {
  "kernelspec": {
   "display_name": "ci_experiments",
   "language": "python",
   "name": "python3"
  },
  "language_info": {
   "codemirror_mode": {
    "name": "ipython",
    "version": 3
   },
   "file_extension": ".py",
   "mimetype": "text/x-python",
   "name": "python",
   "nbconvert_exporter": "python",
   "pygments_lexer": "ipython3",
   "version": "3.8.16"
  },
  "orig_nbformat": 4
 },
 "nbformat": 4,
 "nbformat_minor": 2
}

{
 "cells": [
  {
   "cell_type": "markdown",
   "metadata": {},
   "source": [
    "# BPIC 2017 numeric data tryout with treatment recommended from Bozorgi's et.al study: https://arxiv.org/abs/2009.01561"
   ]
  },
  {
   "cell_type": "markdown",
   "metadata": {},
   "source": [
    "## Dependencies"
   ]
  },
  {
   "cell_type": "code",
   "execution_count": null,
   "outputs": [],
   "source": [
    "# Skip this cell, at first\n",
    "import os\n",
    "os.chdir('../..')\n",
    "os.getcwd()"
   ],
   "metadata": {
    "collapsed": false,
    "pycharm": {
     "name": "#%%\n"
    }
   }
  },
  {
   "cell_type": "code",
   "execution_count": null,
   "metadata": {},
   "outputs": [],
   "source": [
    "import pandas as pd\n",
    "import numpy as np\n",
    "from ylearn.estimator_model.double_ml import DoubleML\n",
    "from xgboost.sklearn import XGBRegressor\n",
    "from ylearn.estimator_model.iv import NP2SLS\n",
    "from CI_Experiments.config import PROJECT_DIR # if this line results ModuleNotFoundError, then execute the cell above"
   ]
  },
  {
   "cell_type": "markdown",
   "metadata": {},
   "source": [
    "## Constants\n"
   ]
  },
  {
   "cell_type": "code",
   "execution_count": null,
   "metadata": {},
   "outputs": [],
   "source": [
    "TRAIN_PATH = PROJECT_DIR / 'data/prepared_process_logs/BPIC2017/numeric/train.csv'\n",
    "TEST_PATH = PROJECT_DIR / 'data/prepared_process_logs/BPIC2017/numeric/test.csv'\n",
    "RESULT_PATH = PROJECT_DIR / 'experiments/results/BPIC2017/numeric'"
   ]
  },
  {
   "cell_type": "markdown",
   "metadata": {},
   "source": [
    "## Data read"
   ]
  },
  {
   "cell_type": "code",
   "execution_count": null,
   "metadata": {},
   "outputs": [],
   "source": [
    "train_data = pd.read_csv(TRAIN_PATH)\n",
    "test_data = pd.read_csv(TEST_PATH)"
   ]
  },
  {
   "cell_type": "markdown",
   "metadata": {},
   "source": [
    "## Treat and control values preparation"
   ]
  },
  {
   "cell_type": "code",
   "execution_count": null,
   "metadata": {},
   "outputs": [],
   "source": [
    "def split_into_data_and_treat_and_control(data: pd.DataFrame):\n",
    "    columns = list(data.columns)\n",
    "    treat_cols = []\n",
    "    control_cols = []\n",
    "    data_cols = []\n",
    "    for col in columns:\n",
    "        if col.endswith('treatment'):\n",
    "            treat_cols.append(col)\n",
    "        elif col.endswith('control'):\n",
    "            control_cols.append(col)\n",
    "        else:\n",
    "            data_cols.append(col)\n",
    "    result_ = {\n",
    "        'data': data[data_cols],\n",
    "        'treat': data[treat_cols],\n",
    "        'control': data[control_cols]\n",
    "    }\n",
    "    return result_"
   ]
  },
  {
   "cell_type": "code",
   "execution_count": null,
   "metadata": {},
   "outputs": [],
   "source": [
    "splitted_train_data = split_into_data_and_treat_and_control(train_data)\n",
    "splitted_test_data = split_into_data_and_treat_and_control(test_data)\n",
    "train_data = splitted_train_data['data']\n",
    "test_data = splitted_test_data['data']\n",
    "treat_data = splitted_test_data['treat'] \n",
    "control_data = splitted_test_data['control']"
   ]
  },
  {
   "cell_type": "code",
   "execution_count": null,
   "metadata": {},
   "outputs": [],
   "source": [
    "train_data.head()"
   ]
  },
  {
   "cell_type": "code",
   "execution_count": null,
   "metadata": {},
   "outputs": [],
   "source": [
    "test_data.head()"
   ]
  },
  {
   "cell_type": "code",
   "execution_count": null,
   "metadata": {},
   "outputs": [],
   "source": [
    "treat_data.head()"
   ]
  },
  {
   "cell_type": "code",
   "execution_count": null,
   "metadata": {},
   "outputs": [],
   "source": [
    "control_data.head()"
   ]
  },
  {
   "cell_type": "markdown",
   "metadata": {},
   "source": [
    "## Causal estimation"
   ]
  },
  {
   "cell_type": "code",
   "execution_count": null,
   "metadata": {},
   "outputs": [],
   "source": [
    "def estimate(train_data_, test_data_, treatment_: str, covariate_: list, instrument_: list, treat_, control_):\n",
    "    x = XGBRegressor(n_estimators=100,max_depth=5, min_child_weight=5, learning_rate=0.1,gamma=1,reg_alpha=1,reg_lambda=1)\n",
    "    y = XGBRegressor(n_estimators=100,max_depth=5, min_child_weight=5, learning_rate=0.1,gamma=1,reg_alpha=1,reg_lambda=1)\n",
    "    dml_covariate = covariate_\n",
    "    if instrument is not None:\n",
    "        dml_covariate = dml_covariate + instrument_\n",
    "    dml = DoubleML(x_model=x, y_model=y, random_state=23, is_discrete_treatment=False)\n",
    "    dml.fit(train_data_, 'Outcome', treatment=treatment_, covariate=dml_covariate)\n",
    "    dml_ate = dml.estimate(\n",
    "        data=test_data_,\n",
    "        treat=treat_,\n",
    "        control=control_,\n",
    "        quantity='ATE'\n",
    "    )\n",
    "    \n",
    "    #############################\n",
    "    \n",
    "    x = XGBRegressor(n_estimators=100,max_depth=5, min_child_weight=5, learning_rate=0.1,gamma=1,reg_alpha=1,reg_lambda=1)\n",
    "    y = XGBRegressor(n_estimators=100,max_depth=5, min_child_weight=5, learning_rate=0.1,gamma=1,reg_alpha=1,reg_lambda=1)\n",
    "    npls = NP2SLS(x_model=x, y_model=y, is_discrete_treatment=False, is_discrete_outcome=True)\n",
    "    npls.fit(train_data_, 'Outcome', treatment=treatment_, covariate=covariate_, instrument=instrument_)\n",
    "    ite = npls.estimate(\n",
    "        data=test_data_,\n",
    "        treat=treat_,\n",
    "        control=control_,\n",
    "    )\n",
    "    iv_ate = np.mean(ite)\n",
    "    \n",
    "    return {'dml_ate': dml_ate, 'iv_ate': iv_ate}\n"
   ]
  },
  {
   "cell_type": "markdown",
   "metadata": {},
   "source": [
    "### First withdrawal amount treatment estimation"
   ]
  },
  {
   "cell_type": "code",
   "execution_count": null,
   "metadata": {},
   "outputs": [],
   "source": [
    "treatment = 'FirstWithdrawalAmount'\n",
    "covariate = ['LoanGoal', 'ApplicationType', 'OfferedAmount', 'NumberOfTerms', 'MonthlyCost']\n",
    "instrument = ['CreditScore']\n",
    "\n",
    "treat = treat_data['FirstWithdrawalAmount_treatment']\n",
    "control = control_data['FirstWithdrawalAmount_control']\n",
    "\n",
    "fw_amount_results = estimate(train_data, test_data, treatment, covariate, instrument, treat, control)\n",
    "fw_amount_results"
   ]
  },
  {
   "cell_type": "markdown",
   "metadata": {},
   "source": [
    "### Number of terms treatment estimation"
   ]
  },
  {
   "cell_type": "code",
   "execution_count": null,
   "metadata": {},
   "outputs": [],
   "source": [
    "treatment = 'NumberOfTerms'\n",
    "covariate = ['LoanGoal', 'ApplicationType', 'OfferedAmount', 'FirstWithdrawalAmount', 'MonthlyCost']\n",
    "instrument = ['CreditScore']\n",
    "\n",
    "treat = treat_data['NumberOfTerms_treatment']\n",
    "control = control_data['NumberOfTerms_control']\n",
    "\n",
    "nr_of_terms_results = estimate(train_data, test_data, treatment, covariate, instrument, treat, control)\n",
    "nr_of_terms_results"
   ]
  },
  {
   "cell_type": "markdown",
   "metadata": {},
   "source": [
    "### Results formatting and save to file"
   ]
  },
  {
   "cell_type": "code",
   "execution_count": null,
   "metadata": {},
   "outputs": [],
   "source": [
    "nr_of_terms_results['dml_ate'] = str(nr_of_terms_results['dml_ate'][0][0])\n",
    "nr_of_terms_results['iv_ate'] = str(nr_of_terms_results['iv_ate'])\n",
    "nr_of_terms_results"
   ]
  },
  {
   "cell_type": "code",
   "execution_count": null,
   "metadata": {
    "pycharm": {
     "name": "#%%\n"
    }
   },
   "outputs": [],
   "source": [
    "fw_amount_results['dml_ate'] = str(fw_amount_results['dml_ate'][0][0])\n",
    "fw_amount_results['iv_ate'] = str(fw_amount_results['iv_ate'])\n",
    "fw_amount_results"
   ]
  },
  {
   "cell_type": "code",
   "execution_count": null,
   "metadata": {
    "pycharm": {
     "name": "#%%\n"
    }
   },
   "outputs": [],
   "source": [
    "result = {'FirstWithdrawalAmountTreatment': fw_amount_results, 'NumberOfTermsTreatment': nr_of_terms_results}\n",
    "result"
   ]
  },
  {
   "cell_type": "code",
   "execution_count": null,
   "metadata": {
    "pycharm": {
     "name": "#%%\n"
    }
   },
   "outputs": [],
   "source": [
    "import json\n",
    "\n",
    "with open(f\"{RESULT_PATH}/estimation_result.txt\", 'w') as file:\n",
    "    file.write(json.dumps(result))\n",
    "\n"
   ]
  }
 ],
 "metadata": {
  "kernelspec": {
   "display_name": "Python 3 (ipykernel)",
   "language": "python",
   "name": "python3"
  },
  "language_info": {
   "codemirror_mode": {
    "name": "ipython",
    "version": 3
   },
   "file_extension": ".py",
   "mimetype": "text/x-python",
   "name": "python",
   "nbconvert_exporter": "python",
   "pygments_lexer": "ipython3",
   "version": "3.8.16"
  }
 },
 "nbformat": 4,
 "nbformat_minor": 1
}
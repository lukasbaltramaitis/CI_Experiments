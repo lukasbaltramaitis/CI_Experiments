{
 "cells": [
  {
   "cell_type": "markdown",
   "metadata": {},
   "source": [
    "# BPIC 2017 dataset preparation\n"
   ]
  },
  {
   "cell_type": "code",
   "execution_count": null,
   "metadata": {
    "pycharm": {
     "is_executing": true
    }
   },
   "outputs": [],
   "source": [
    "import pandas as pd\n",
    "import numpy as np\n",
    "from sklearn.model_selection import train_test_split\n",
    "from CI_Experiments.config import PROJECT_DIR"
   ]
  },
  {
   "cell_type": "code",
   "execution_count": null,
   "metadata": {},
   "outputs": [],
   "source": [
    "UNPRAPARED_PATH = PROJECT_DIR / 'data/unprepared_process_logs'\n",
    "BPIC_2017_DATA = UNPRAPARED_PATH / 'BPIC2017.csv'\n",
    "DESTINATION_DATA = PROJECT_DIR / 'data/prepared_process_logs/BPIC2017/activity/activity.csv'\n",
    "NUMERIC_TRAIN = PROJECT_DIR / 'data/prepared_process_logs/BPIC2017/numeric/train.csv'\n",
    "NUMERIC_TEST = PROJECT_DIR / 'data/prepared_process_logs/BPIC2017/numeric/train.csv'\n"
   ]
  },
  {
   "cell_type": "code",
   "execution_count": null,
   "metadata": {},
   "outputs": [],
   "source": [
    "unprepared_data = pd.read_csv(BPIC_2017_DATA, sep=';')\n",
    "unprepared_data.head()"
   ]
  },
  {
   "cell_type": "code",
   "execution_count": null,
   "metadata": {},
   "outputs": [],
   "source": [
    "unprepared_data.columns"
   ]
  },
  {
   "cell_type": "code",
   "execution_count": null,
   "metadata": {},
   "outputs": [],
   "source": [
    "unprepared_data['LoanGoal'].unique()"
   ]
  },
  {
   "cell_type": "code",
   "execution_count": null,
   "metadata": {},
   "outputs": [],
   "source": [
    "unprepared_data['ApplicationType'].unique()"
   ]
  },
  {
   "cell_type": "code",
   "execution_count": null,
   "metadata": {},
   "outputs": [],
   "source": [
    "numeric_columns = [\n",
    "    'CreditScore',\n",
    "    'OfferedAmount',\n",
    "    'NumberOfTerms',\n",
    "    'MonthlyCost',\n",
    "    'FirstWithdrawalAmount'\n",
    "]"
   ]
  },
  {
   "cell_type": "code",
   "execution_count": null,
   "metadata": {},
   "outputs": [],
   "source": [
    "other_columns = ['Case ID', 'label', 'LoanGoal', 'ApplicationType']"
   ]
  },
  {
   "cell_type": "code",
   "execution_count": null,
   "metadata": {},
   "outputs": [],
   "source": [
    "four_columns_for_activity = [\n",
    "    'Case ID',\n",
    "    'label',\n",
    "    'Activity',\n",
    "    'time:timestamp'\n",
    "]\n"
   ]
  },
  {
   "cell_type": "markdown",
   "metadata": {},
   "source": [
    "## Activity data preparation"
   ]
  },
  {
   "cell_type": "code",
   "execution_count": null,
   "metadata": {},
   "outputs": [],
   "source": [
    "activity_data = unprepared_data[four_columns_for_activity]\n",
    "activity_data.head()"
   ]
  },
  {
   "cell_type": "code",
   "execution_count": null,
   "metadata": {},
   "outputs": [],
   "source": [
    "activity_data['label'] = np.where(activity_data['label'] == 'deviant', 1, 0)\n",
    "activity_data.head()"
   ]
  },
  {
   "cell_type": "code",
   "execution_count": null,
   "metadata": {},
   "outputs": [],
   "source": [
    "activity_data = activity_data.rename(columns={'label': 'Outcome', 'time:timestamp': 'Timestamp'})\n",
    "activity_data.head()"
   ]
  },
  {
   "cell_type": "code",
   "execution_count": null,
   "metadata": {},
   "outputs": [],
   "source": [
    "activity_data.to_csv(DESTINATION_DATA, index=False)"
   ]
  },
  {
   "cell_type": "code",
   "execution_count": null,
   "metadata": {},
   "outputs": [],
   "source": [
    "len(activity_data['Activity'].unique())"
   ]
  },
  {
   "cell_type": "code",
   "execution_count": null,
   "metadata": {},
   "outputs": [],
   "source": [
    "np.mean(activity_data.groupby('Case ID').count()['Activity'])"
   ]
  },
  {
   "cell_type": "markdown",
   "metadata": {},
   "source": [
    "## Numeric data preparation for comparison with Bozorgi's et al. study: https://arxiv.org/abs/2009.01561"
   ]
  },
  {
   "cell_type": "code",
   "execution_count": null,
   "metadata": {},
   "outputs": [],
   "source": [
    "numeric_cols = other_columns + numeric_columns\n",
    "numeric_cols"
   ]
  },
  {
   "cell_type": "code",
   "execution_count": null,
   "metadata": {},
   "outputs": [],
   "source": [
    "numeric_data = unprepared_data[numeric_cols]\n",
    "numeric_data.head()"
   ]
  },
  {
   "cell_type": "code",
   "execution_count": null,
   "metadata": {},
   "outputs": [],
   "source": [
    "numeric_data['label'] = np.where(numeric_data['label'] == 'deviant', 1, 0)\n",
    "numeric_data.head()"
   ]
  },
  {
   "cell_type": "code",
   "execution_count": null,
   "metadata": {},
   "outputs": [],
   "source": [
    "numeric_data = numeric_data.rename(columns={'label': 'Outcome', 'time:timestamp': 'Timestamp'})\n",
    "numeric_data.head()"
   ]
  },
  {
   "cell_type": "code",
   "execution_count": null,
   "metadata": {
    "pycharm": {
     "name": "#%%\n"
    }
   },
   "outputs": [],
   "source": [
    "numeric_data = numeric_data.groupby('Case ID').apply(lambda row: row.max())\n",
    "numeric_data = numeric_data.reset_index(drop=True)\n",
    "numeric_data.head()"
   ]
  },
  {
   "cell_type": "code",
   "execution_count": null,
   "metadata": {
    "pycharm": {
     "name": "#%%\n"
    }
   },
   "outputs": [],
   "source": [
    "del numeric_data['Case ID']\n",
    "numeric_data.head()"
   ]
  },
  {
   "cell_type": "code",
   "execution_count": null,
   "metadata": {
    "pycharm": {
     "name": "#%%\n"
    }
   },
   "outputs": [],
   "source": [
    "numeric_data['NumberOfTerms_treatment'] = numeric_data['NumberOfTerms']\n",
    "numeric_data['FirstWithdrawalAmount_treatment'] = numeric_data['FirstWithdrawalAmount']\n",
    "numeric_data['NumberOfTerms_control'] = numeric_data['NumberOfTerms']\n",
    "numeric_data['FirstWithdrawalAmount_control'] = numeric_data['FirstWithdrawalAmount']\n",
    "numeric_data.head()"
   ]
  },
  {
   "cell_type": "code",
   "execution_count": null,
   "metadata": {
    "pycharm": {
     "name": "#%%\n"
    }
   },
   "outputs": [],
   "source": [
    "def transform(x, A, B, C, D):\n",
    "    return (D * (x - A) + C * (B - x)) / (B - A)"
   ]
  },
  {
   "cell_type": "code",
   "execution_count": null,
   "metadata": {
    "pycharm": {
     "name": "#%%\n"
    }
   },
   "outputs": [],
   "source": [
    "def apply_to_row(row):\n",
    "    action_1 = (row['FirstWithdrawalAmount'] > 7500) & \\\n",
    "               (row['FirstWithdrawalAmount'] <= 9895) & \\\n",
    "               (row['ApplicationType'] == 'Limit raise') & \\\n",
    "               (row['CreditScore'] > 885) & \\\n",
    "               (row['MonthlyCost'] > 120)\n",
    "\n",
    "    action_2 = (row['NumberOfTerms'] > 6) & \\\n",
    "               (row['NumberOfTerms'] <= 48) & \\\n",
    "               (row['CreditScore'] > 899) & \\\n",
    "               (row['CreditScore'] <= 943) & \\\n",
    "               (row['FirstWithdrawalAmount'] < 8304)\n",
    "\n",
    "    action_3 = (row['NumberOfTerms'] > 6) & \\\n",
    "               (row['NumberOfTerms'] <= 48) & \\\n",
    "               (row['LoanGoal'] != 'Existing loan takeover') & \\\n",
    "               (row['MonthlyCost'] > 149) & \\\n",
    "               (row['FirstWithdrawalAmount'] < 8304)\n",
    "\n",
    "    action_4 = (row['NumberOfTerms'] > 6) & \\\n",
    "               (row['NumberOfTerms'] <= 48) & \\\n",
    "               (\n",
    "                       (\n",
    "                               (row['CreditScore'] < 982) &\n",
    "                               (row['FirstWithdrawalAmount'] > 8304) &\n",
    "                               (row['MonthlyCost'] > 154) &\n",
    "                               (row['MonthlyCost'] <= 205)\n",
    "                       ) |\n",
    "                       (\n",
    "                               (row['CreditScore'] > 781) &\n",
    "                               (row['CreditScore'] <= 982) &\n",
    "                               (row['FirstWithdrawalAmount'] < 8304) &\n",
    "                               (row['MonthlyCost'] > 147)\n",
    "                       )\n",
    "               )\n",
    "\n",
    "    action_5 = (row['FirstWithdrawalAmount'] > 7500) & \\\n",
    "               (row['FirstWithdrawalAmount'] <= 9895) & \\\n",
    "               (row['NumberOfTerms'] > 120) & \\\n",
    "               (row['MonthlyCost'] < 150)\n",
    "\n",
    "    action_6 = (row['FirstWithdrawalAmount'] > 7500) & \\\n",
    "               (row['FirstWithdrawalAmount'] <= 9895) & \\\n",
    "               (row['NumberOfTerms'] > 120) & \\\n",
    "               (row['ApplicationType'] == 'New credit') & \\\n",
    "               (row['CreditScore'] < 914) & \\\n",
    "               (row['MonthlyCost'] > 150)\n",
    "\n",
    "    action_7 = (row['FirstWithdrawalAmount'] > 7500) & \\\n",
    "               (row['FirstWithdrawalAmount'] <= 9895) & \\\n",
    "               (row['ApplicationType'] == 'New credit') & \\\n",
    "               (row['LoanGoal'] == 'Existing loan takeover') & \\\n",
    "               (row['CreditScore'] == 825)\n",
    "\n",
    "    action_8 = (row['FirstWithdrawalAmount'] > 9895) & \\\n",
    "               (row['FirstWithdrawalAmount'] <= 75000) & \\\n",
    "               (row['NumberOfTerms'] > 49) & \\\n",
    "               (row['NumberOfTerms'] <= 60) & \\\n",
    "               (row['CreditScore'] < 933) & \\\n",
    "               (row['MonthlyCost'] > 154)\n",
    "\n",
    "    if action_1:\n",
    "        row['FirstWithdrawalAmount_treatment'] = transform(row['FirstWithdrawalAmount'], 7500, 9895, 0, 7499)\n",
    "    if action_2:\n",
    "        row['NumberOfTerms_treatment'] = transform(row['NumberOfTerms'], 6, 48, 120, 360)\n",
    "    if action_3:\n",
    "        row['NumberOfTerms_treatment'] = transform(row['NumberOfTerms'], 6, 48, 61, 96)\n",
    "    if action_4:\n",
    "        row['NumberOfTerms_treatment'] = transform(row['NumberOfTerms'], 6, 48, 97, 120)\n",
    "    if action_5:\n",
    "        row['FirstWithdrawalAmount_treatment'] = transform(row['FirstWithdrawalAmount'], 7500, 9895,  5750, 7499)\n",
    "        row['NumberOfTerms_treatment'] = transform(row['NumberOfTerms'], 120, 600, 49, 60)\n",
    "    if action_6:\n",
    "        row['FirstWithdrawalAmount_treatment'] = transform(row['FirstWithdrawalAmount'], 7500, 9895,  0, 7499)\n",
    "        row['NumberOfTerms_treatment'] = transform(row['NumberOfTerms'], 120, 600, 97, 120)\n",
    "    if action_7:\n",
    "        row['FirstWithdrawalAmount_treatment'] = transform(row['FirstWithdrawalAmount'], 7500, 9895,  9896, 75000)\n",
    "    if action_8:\n",
    "        row['FirstWithdrawalAmount_treatment'] = transform(row['FirstWithdrawalAmount'], 9896, 75000,  1490, 7499)\n",
    "        row['NumberOfTerms_treatment'] = transform(row['NumberOfTerms'], 49, 60, 97, 120)\n",
    "    return row\n"
   ]
  },
  {
   "cell_type": "code",
   "execution_count": null,
   "metadata": {},
   "outputs": [],
   "source": [
    "numeric_data = numeric_data.apply(apply_to_row, axis=1)\n",
    "numeric_data.head()"
   ]
  },
  {
   "cell_type": "code",
   "execution_count": null,
   "metadata": {},
   "outputs": [],
   "source": [
    "numeric_data['ApplicationType'] = np.where(numeric_data['ApplicationType'] == 'New credit', 1.0, 0.0)\n",
    "numeric_data['LoanGoal'] = np.where(numeric_data['LoanGoal'] == 'Existing loan takeover', 1.0, 0.0)\n",
    "numeric_data.head()"
   ]
  },
  {
   "cell_type": "code",
   "execution_count": null,
   "metadata": {
    "pycharm": {
     "name": "#%%\n"
    }
   },
   "outputs": [],
   "source": [
    "train, test = train_test_split(numeric_data, test_size=0.2, random_state=42)\n"
   ]
  },
  {
   "cell_type": "code",
   "execution_count": null,
   "metadata": {},
   "outputs": [],
   "source": [
    "train.to_csv(NUMERIC_TRAIN, index=False)\n",
    "test.to_csv(NUMERIC_TEST, index=False)\n",
    "\n"
   ]
  }
 ],
 "metadata": {
  "kernelspec": {
   "display_name": "Python 3 (ipykernel)",
   "language": "python",
   "name": "python3"
  },
  "language_info": {
   "codemirror_mode": {
    "name": "ipython",
    "version": 3
   },
   "file_extension": ".py",
   "mimetype": "text/x-python",
   "name": "python",
   "nbconvert_exporter": "python",
   "pygments_lexer": "ipython3",
   "version": "3.8.16"
  }
 },
 "nbformat": 4,
 "nbformat_minor": 1
}
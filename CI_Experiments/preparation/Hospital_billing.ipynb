{
 "cells": [
  {
   "cell_type": "markdown",
   "source": [
    "# Hospital billing dataset preparation"
   ],
   "metadata": {
    "collapsed": false
   }
  },
  {
   "cell_type": "code",
   "execution_count": null,
   "outputs": [],
   "source": [
    "# Skip this cell, at first\n",
    "import os\n",
    "os.chdir('../..')\n",
    "os.getcwd()"
   ],
   "metadata": {
    "collapsed": false,
    "pycharm": {
     "name": "#%%\n"
    }
   }
  },
  {
   "cell_type": "code",
   "execution_count": 1,
   "metadata": {
    "pycharm": {
     "is_executing": true
    }
   },
   "outputs": [],
   "source": [
    "import pandas as pd\n",
    "import numpy as np\n",
    "from CI_Experiments.config import PROJECT_DIR # # if this line results ModuleNotFoundError, then execute the cell above"
   ]
  },
  {
   "cell_type": "code",
   "execution_count": 2,
   "metadata": {},
   "outputs": [],
   "source": [
    "UNPREPARED_PATH = PROJECT_DIR / 'data/unprepared_process_logs'\n",
    "HOSPITAL_BILLING_DATA = UNPREPARED_PATH / 'hospital_billing.csv'\n",
    "DESTINATION_DATA = PROJECT_DIR / 'data/prepared_process_logs/hospital_billing/activity/activity.csv'"
   ]
  },
  {
   "cell_type": "code",
   "execution_count": 3,
   "metadata": {},
   "outputs": [
    {
     "data": {
      "text/html": [
       "<div>\n",
       "<style scoped>\n",
       "    .dataframe tbody tr th:only-of-type {\n",
       "        vertical-align: middle;\n",
       "    }\n",
       "\n",
       "    .dataframe tbody tr th {\n",
       "        vertical-align: top;\n",
       "    }\n",
       "\n",
       "    .dataframe thead th {\n",
       "        text-align: right;\n",
       "    }\n",
       "</style>\n",
       "<table border=\"1\" class=\"dataframe\">\n",
       "  <thead>\n",
       "    <tr style=\"text-align: right;\">\n",
       "      <th></th>\n",
       "      <th>speciality</th>\n",
       "      <th>Case ID</th>\n",
       "      <th>Activity</th>\n",
       "      <th>Resource</th>\n",
       "      <th>actOrange</th>\n",
       "      <th>actRed</th>\n",
       "      <th>blocked</th>\n",
       "      <th>caseType</th>\n",
       "      <th>diagnosis</th>\n",
       "      <th>flagC</th>\n",
       "      <th>...</th>\n",
       "      <th>Complete Timestamp</th>\n",
       "      <th>timesincemidnight</th>\n",
       "      <th>month</th>\n",
       "      <th>weekday</th>\n",
       "      <th>hour</th>\n",
       "      <th>timesincelastevent</th>\n",
       "      <th>timesincecasestart</th>\n",
       "      <th>event_nr</th>\n",
       "      <th>open_cases</th>\n",
       "      <th>label</th>\n",
       "    </tr>\n",
       "  </thead>\n",
       "  <tbody>\n",
       "    <tr>\n",
       "      <th>0</th>\n",
       "      <td>C</td>\n",
       "      <td>RB</td>\n",
       "      <td>NEW</td>\n",
       "      <td>ResN</td>\n",
       "      <td>missing</td>\n",
       "      <td>missing</td>\n",
       "      <td>False</td>\n",
       "      <td>B</td>\n",
       "      <td>missing</td>\n",
       "      <td>missing</td>\n",
       "      <td>...</td>\n",
       "      <td>2012-12-13 11:13:18</td>\n",
       "      <td>673</td>\n",
       "      <td>12</td>\n",
       "      <td>3</td>\n",
       "      <td>11</td>\n",
       "      <td>0.0</td>\n",
       "      <td>0.0</td>\n",
       "      <td>1</td>\n",
       "      <td>0</td>\n",
       "      <td>regular</td>\n",
       "    </tr>\n",
       "    <tr>\n",
       "      <th>1</th>\n",
       "      <td>I</td>\n",
       "      <td>R</td>\n",
       "      <td>NEW</td>\n",
       "      <td>other</td>\n",
       "      <td>missing</td>\n",
       "      <td>missing</td>\n",
       "      <td>False</td>\n",
       "      <td>A</td>\n",
       "      <td>S</td>\n",
       "      <td>missing</td>\n",
       "      <td>...</td>\n",
       "      <td>2012-12-13 12:12:05</td>\n",
       "      <td>732</td>\n",
       "      <td>12</td>\n",
       "      <td>3</td>\n",
       "      <td>12</td>\n",
       "      <td>0.0</td>\n",
       "      <td>0.0</td>\n",
       "      <td>1</td>\n",
       "      <td>1</td>\n",
       "      <td>regular</td>\n",
       "    </tr>\n",
       "    <tr>\n",
       "      <th>2</th>\n",
       "      <td>M</td>\n",
       "      <td>PB</td>\n",
       "      <td>NEW</td>\n",
       "      <td>ResNA</td>\n",
       "      <td>missing</td>\n",
       "      <td>missing</td>\n",
       "      <td>False</td>\n",
       "      <td>B</td>\n",
       "      <td>missing</td>\n",
       "      <td>missing</td>\n",
       "      <td>...</td>\n",
       "      <td>2012-12-13 12:18:50</td>\n",
       "      <td>738</td>\n",
       "      <td>12</td>\n",
       "      <td>3</td>\n",
       "      <td>12</td>\n",
       "      <td>0.0</td>\n",
       "      <td>0.0</td>\n",
       "      <td>1</td>\n",
       "      <td>2</td>\n",
       "      <td>deviant</td>\n",
       "    </tr>\n",
       "    <tr>\n",
       "      <th>3</th>\n",
       "      <td>M</td>\n",
       "      <td>PB</td>\n",
       "      <td>DELETE</td>\n",
       "      <td>ResNA</td>\n",
       "      <td>missing</td>\n",
       "      <td>missing</td>\n",
       "      <td>False</td>\n",
       "      <td>B</td>\n",
       "      <td>missing</td>\n",
       "      <td>missing</td>\n",
       "      <td>...</td>\n",
       "      <td>2012-12-13 15:06:26</td>\n",
       "      <td>906</td>\n",
       "      <td>12</td>\n",
       "      <td>3</td>\n",
       "      <td>15</td>\n",
       "      <td>167.6</td>\n",
       "      <td>167.6</td>\n",
       "      <td>2</td>\n",
       "      <td>3</td>\n",
       "      <td>deviant</td>\n",
       "    </tr>\n",
       "    <tr>\n",
       "      <th>4</th>\n",
       "      <td>C</td>\n",
       "      <td>ND</td>\n",
       "      <td>NEW</td>\n",
       "      <td>ResUB</td>\n",
       "      <td>missing</td>\n",
       "      <td>missing</td>\n",
       "      <td>False</td>\n",
       "      <td>B</td>\n",
       "      <td>missing</td>\n",
       "      <td>missing</td>\n",
       "      <td>...</td>\n",
       "      <td>2012-12-13 16:30:12</td>\n",
       "      <td>990</td>\n",
       "      <td>12</td>\n",
       "      <td>3</td>\n",
       "      <td>16</td>\n",
       "      <td>0.0</td>\n",
       "      <td>0.0</td>\n",
       "      <td>1</td>\n",
       "      <td>2</td>\n",
       "      <td>regular</td>\n",
       "    </tr>\n",
       "  </tbody>\n",
       "</table>\n",
       "<p>5 rows × 28 columns</p>\n",
       "</div>"
      ],
      "text/plain": [
       "  speciality Case ID Activity Resource actOrange   actRed  blocked caseType  \\\n",
       "0          C      RB      NEW     ResN   missing  missing    False        B   \n",
       "1          I       R      NEW    other   missing  missing    False        A   \n",
       "2          M      PB      NEW    ResNA   missing  missing    False        B   \n",
       "3          M      PB   DELETE    ResNA   missing  missing    False        B   \n",
       "4          C      ND      NEW    ResUB   missing  missing    False        B   \n",
       "\n",
       "  diagnosis    flagC  ...   Complete Timestamp timesincemidnight month  \\\n",
       "0   missing  missing  ...  2012-12-13 11:13:18               673    12   \n",
       "1         S  missing  ...  2012-12-13 12:12:05               732    12   \n",
       "2   missing  missing  ...  2012-12-13 12:18:50               738    12   \n",
       "3   missing  missing  ...  2012-12-13 15:06:26               906    12   \n",
       "4   missing  missing  ...  2012-12-13 16:30:12               990    12   \n",
       "\n",
       "  weekday hour  timesincelastevent timesincecasestart  event_nr open_cases  \\\n",
       "0       3   11                 0.0                0.0         1          0   \n",
       "1       3   12                 0.0                0.0         1          1   \n",
       "2       3   12                 0.0                0.0         1          2   \n",
       "3       3   15               167.6              167.6         2          3   \n",
       "4       3   16                 0.0                0.0         1          2   \n",
       "\n",
       "     label  \n",
       "0  regular  \n",
       "1  regular  \n",
       "2  deviant  \n",
       "3  deviant  \n",
       "4  regular  \n",
       "\n",
       "[5 rows x 28 columns]"
      ]
     },
     "execution_count": 3,
     "metadata": {},
     "output_type": "execute_result"
    }
   ],
   "source": [
    "unprepared_data = pd.read_csv(HOSPITAL_BILLING_DATA, sep=';')\n",
    "unprepared_data.head()"
   ]
  },
  {
   "cell_type": "code",
   "execution_count": 4,
   "metadata": {},
   "outputs": [
    {
     "data": {
      "text/plain": [
       "Index(['speciality', 'Case ID', 'Activity', 'Resource', 'actOrange', 'actRed',\n",
       "       'blocked', 'caseType', 'diagnosis', 'flagC', 'flagD', 'msgCode',\n",
       "       'msgType', 'state', 'version', 'isCancelled', 'closeCode', 'msgCount',\n",
       "       'Complete Timestamp', 'timesincemidnight', 'month', 'weekday', 'hour',\n",
       "       'timesincelastevent', 'timesincecasestart', 'event_nr', 'open_cases',\n",
       "       'label'],\n",
       "      dtype='object')"
      ]
     },
     "execution_count": 4,
     "metadata": {},
     "output_type": "execute_result"
    }
   ],
   "source": [
    "unprepared_data.columns"
   ]
  },
  {
   "cell_type": "code",
   "execution_count": 5,
   "metadata": {},
   "outputs": [],
   "source": [
    "four_columns_for_activity = [\n",
    "    'Case ID',\n",
    "    'label',\n",
    "    'Activity',\n",
    "    'Complete Timestamp'\n",
    "]"
   ]
  },
  {
   "cell_type": "code",
   "execution_count": 6,
   "metadata": {},
   "outputs": [
    {
     "data": {
      "text/html": [
       "<div>\n",
       "<style scoped>\n",
       "    .dataframe tbody tr th:only-of-type {\n",
       "        vertical-align: middle;\n",
       "    }\n",
       "\n",
       "    .dataframe tbody tr th {\n",
       "        vertical-align: top;\n",
       "    }\n",
       "\n",
       "    .dataframe thead th {\n",
       "        text-align: right;\n",
       "    }\n",
       "</style>\n",
       "<table border=\"1\" class=\"dataframe\">\n",
       "  <thead>\n",
       "    <tr style=\"text-align: right;\">\n",
       "      <th></th>\n",
       "      <th>Case ID</th>\n",
       "      <th>label</th>\n",
       "      <th>Activity</th>\n",
       "      <th>Complete Timestamp</th>\n",
       "    </tr>\n",
       "  </thead>\n",
       "  <tbody>\n",
       "    <tr>\n",
       "      <th>0</th>\n",
       "      <td>RB</td>\n",
       "      <td>regular</td>\n",
       "      <td>NEW</td>\n",
       "      <td>2012-12-13 11:13:18</td>\n",
       "    </tr>\n",
       "    <tr>\n",
       "      <th>1</th>\n",
       "      <td>R</td>\n",
       "      <td>regular</td>\n",
       "      <td>NEW</td>\n",
       "      <td>2012-12-13 12:12:05</td>\n",
       "    </tr>\n",
       "    <tr>\n",
       "      <th>2</th>\n",
       "      <td>PB</td>\n",
       "      <td>deviant</td>\n",
       "      <td>NEW</td>\n",
       "      <td>2012-12-13 12:18:50</td>\n",
       "    </tr>\n",
       "    <tr>\n",
       "      <th>3</th>\n",
       "      <td>PB</td>\n",
       "      <td>deviant</td>\n",
       "      <td>DELETE</td>\n",
       "      <td>2012-12-13 15:06:26</td>\n",
       "    </tr>\n",
       "    <tr>\n",
       "      <th>4</th>\n",
       "      <td>ND</td>\n",
       "      <td>regular</td>\n",
       "      <td>NEW</td>\n",
       "      <td>2012-12-13 16:30:12</td>\n",
       "    </tr>\n",
       "  </tbody>\n",
       "</table>\n",
       "</div>"
      ],
      "text/plain": [
       "  Case ID    label Activity   Complete Timestamp\n",
       "0      RB  regular      NEW  2012-12-13 11:13:18\n",
       "1       R  regular      NEW  2012-12-13 12:12:05\n",
       "2      PB  deviant      NEW  2012-12-13 12:18:50\n",
       "3      PB  deviant   DELETE  2012-12-13 15:06:26\n",
       "4      ND  regular      NEW  2012-12-13 16:30:12"
      ]
     },
     "execution_count": 6,
     "metadata": {},
     "output_type": "execute_result"
    }
   ],
   "source": [
    "activity_data = unprepared_data[four_columns_for_activity]\n",
    "activity_data.head()"
   ]
  },
  {
   "cell_type": "code",
   "execution_count": 7,
   "metadata": {},
   "outputs": [
    {
     "name": "stderr",
     "output_type": "stream",
     "text": [
      "/var/folders/2v/0cy8xvx12vl1y6x611k263_w0000gn/T/ipykernel_84401/2959549615.py:1: SettingWithCopyWarning: \n",
      "A value is trying to be set on a copy of a slice from a DataFrame.\n",
      "Try using .loc[row_indexer,col_indexer] = value instead\n",
      "\n",
      "See the caveats in the documentation: https://pandas.pydata.org/pandas-docs/stable/user_guide/indexing.html#returning-a-view-versus-a-copy\n",
      "  activity_data['label'] = np.where(activity_data['label'] == 'deviant', 1, 0)\n"
     ]
    },
    {
     "data": {
      "text/html": [
       "<div>\n",
       "<style scoped>\n",
       "    .dataframe tbody tr th:only-of-type {\n",
       "        vertical-align: middle;\n",
       "    }\n",
       "\n",
       "    .dataframe tbody tr th {\n",
       "        vertical-align: top;\n",
       "    }\n",
       "\n",
       "    .dataframe thead th {\n",
       "        text-align: right;\n",
       "    }\n",
       "</style>\n",
       "<table border=\"1\" class=\"dataframe\">\n",
       "  <thead>\n",
       "    <tr style=\"text-align: right;\">\n",
       "      <th></th>\n",
       "      <th>Case ID</th>\n",
       "      <th>label</th>\n",
       "      <th>Activity</th>\n",
       "      <th>Complete Timestamp</th>\n",
       "    </tr>\n",
       "  </thead>\n",
       "  <tbody>\n",
       "    <tr>\n",
       "      <th>0</th>\n",
       "      <td>RB</td>\n",
       "      <td>0</td>\n",
       "      <td>NEW</td>\n",
       "      <td>2012-12-13 11:13:18</td>\n",
       "    </tr>\n",
       "    <tr>\n",
       "      <th>1</th>\n",
       "      <td>R</td>\n",
       "      <td>0</td>\n",
       "      <td>NEW</td>\n",
       "      <td>2012-12-13 12:12:05</td>\n",
       "    </tr>\n",
       "    <tr>\n",
       "      <th>2</th>\n",
       "      <td>PB</td>\n",
       "      <td>1</td>\n",
       "      <td>NEW</td>\n",
       "      <td>2012-12-13 12:18:50</td>\n",
       "    </tr>\n",
       "    <tr>\n",
       "      <th>3</th>\n",
       "      <td>PB</td>\n",
       "      <td>1</td>\n",
       "      <td>DELETE</td>\n",
       "      <td>2012-12-13 15:06:26</td>\n",
       "    </tr>\n",
       "    <tr>\n",
       "      <th>4</th>\n",
       "      <td>ND</td>\n",
       "      <td>0</td>\n",
       "      <td>NEW</td>\n",
       "      <td>2012-12-13 16:30:12</td>\n",
       "    </tr>\n",
       "  </tbody>\n",
       "</table>\n",
       "</div>"
      ],
      "text/plain": [
       "  Case ID  label Activity   Complete Timestamp\n",
       "0      RB      0      NEW  2012-12-13 11:13:18\n",
       "1       R      0      NEW  2012-12-13 12:12:05\n",
       "2      PB      1      NEW  2012-12-13 12:18:50\n",
       "3      PB      1   DELETE  2012-12-13 15:06:26\n",
       "4      ND      0      NEW  2012-12-13 16:30:12"
      ]
     },
     "execution_count": 7,
     "metadata": {},
     "output_type": "execute_result"
    }
   ],
   "source": [
    "activity_data['label'] = np.where(activity_data['label'] == 'deviant', 1, 0)\n",
    "activity_data.head()"
   ]
  },
  {
   "cell_type": "code",
   "execution_count": 8,
   "metadata": {},
   "outputs": [
    {
     "data": {
      "text/html": [
       "<div>\n",
       "<style scoped>\n",
       "    .dataframe tbody tr th:only-of-type {\n",
       "        vertical-align: middle;\n",
       "    }\n",
       "\n",
       "    .dataframe tbody tr th {\n",
       "        vertical-align: top;\n",
       "    }\n",
       "\n",
       "    .dataframe thead th {\n",
       "        text-align: right;\n",
       "    }\n",
       "</style>\n",
       "<table border=\"1\" class=\"dataframe\">\n",
       "  <thead>\n",
       "    <tr style=\"text-align: right;\">\n",
       "      <th></th>\n",
       "      <th>Case ID</th>\n",
       "      <th>Outcome</th>\n",
       "      <th>Activity</th>\n",
       "      <th>Timestamp</th>\n",
       "    </tr>\n",
       "  </thead>\n",
       "  <tbody>\n",
       "    <tr>\n",
       "      <th>0</th>\n",
       "      <td>RB</td>\n",
       "      <td>0</td>\n",
       "      <td>NEW</td>\n",
       "      <td>2012-12-13 11:13:18</td>\n",
       "    </tr>\n",
       "    <tr>\n",
       "      <th>1</th>\n",
       "      <td>R</td>\n",
       "      <td>0</td>\n",
       "      <td>NEW</td>\n",
       "      <td>2012-12-13 12:12:05</td>\n",
       "    </tr>\n",
       "    <tr>\n",
       "      <th>2</th>\n",
       "      <td>PB</td>\n",
       "      <td>1</td>\n",
       "      <td>NEW</td>\n",
       "      <td>2012-12-13 12:18:50</td>\n",
       "    </tr>\n",
       "    <tr>\n",
       "      <th>3</th>\n",
       "      <td>PB</td>\n",
       "      <td>1</td>\n",
       "      <td>DELETE</td>\n",
       "      <td>2012-12-13 15:06:26</td>\n",
       "    </tr>\n",
       "    <tr>\n",
       "      <th>4</th>\n",
       "      <td>ND</td>\n",
       "      <td>0</td>\n",
       "      <td>NEW</td>\n",
       "      <td>2012-12-13 16:30:12</td>\n",
       "    </tr>\n",
       "  </tbody>\n",
       "</table>\n",
       "</div>"
      ],
      "text/plain": [
       "  Case ID  Outcome Activity            Timestamp\n",
       "0      RB        0      NEW  2012-12-13 11:13:18\n",
       "1       R        0      NEW  2012-12-13 12:12:05\n",
       "2      PB        1      NEW  2012-12-13 12:18:50\n",
       "3      PB        1   DELETE  2012-12-13 15:06:26\n",
       "4      ND        0      NEW  2012-12-13 16:30:12"
      ]
     },
     "execution_count": 8,
     "metadata": {},
     "output_type": "execute_result"
    }
   ],
   "source": [
    "activity_data = activity_data.rename(columns={'label': 'Outcome', 'Complete Timestamp': 'Timestamp'})\n",
    "activity_data.head()"
   ]
  },
  {
   "cell_type": "code",
   "execution_count": 13,
   "metadata": {},
   "outputs": [],
   "source": [
    "activity_data.to_csv(DESTINATION_DATA, index=False)"
   ]
  },
  {
   "cell_type": "code",
   "execution_count": 9,
   "metadata": {},
   "outputs": [
    {
     "data": {
      "text/plain": [
       "array(['NEW', 'DELETE', 'CHANGE DIAGN', 'FIN', 'RELEASE', 'CODE OK',\n",
       "       'REOPEN', 'BILLED', 'SET STATUS', 'STORNO', 'REJECT', 'JOIN-PAT',\n",
       "       'CHANGE END', 'CODE NOK', 'CODE ERROR', 'MANUAL', 'other', 'EMPTY'],\n",
       "      dtype=object)"
      ]
     },
     "execution_count": 9,
     "metadata": {},
     "output_type": "execute_result"
    }
   ],
   "source": [
    "activity_data['Activity'].unique()"
   ]
  },
  {
   "cell_type": "code",
   "execution_count": 10,
   "metadata": {},
   "outputs": [
    {
     "data": {
      "text/plain": [
       "5.528874556594647"
      ]
     },
     "execution_count": 10,
     "metadata": {},
     "output_type": "execute_result"
    }
   ],
   "source": [
    "np.mean(activity_data.groupby('Case ID').count()['Activity'])"
   ]
  },
  {
   "cell_type": "code",
   "execution_count": null,
   "metadata": {},
   "outputs": [],
   "source": []
  }
 ],
 "metadata": {
  "kernelspec": {
   "display_name": "Python 3 (ipykernel)",
   "language": "python",
   "name": "python3"
  },
  "language_info": {
   "codemirror_mode": {
    "name": "ipython",
    "version": 3
   },
   "file_extension": ".py",
   "mimetype": "text/x-python",
   "name": "python",
   "nbconvert_exporter": "python",
   "pygments_lexer": "ipython3",
   "version": "3.8.16"
  }
 },
 "nbformat": 4,
 "nbformat_minor": 1
}
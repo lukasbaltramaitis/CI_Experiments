{
 "cells": [
  {
   "cell_type": "markdown",
   "source": [
    "# Production dataset preparation"
   ],
   "metadata": {
    "collapsed": false
   }
  },
  {
   "cell_type": "code",
   "execution_count": null,
   "outputs": [],
   "source": [
    "# Skip this cell, at first\n",
    "import os\n",
    "os.chdir('../..')\n",
    "os.getcwd()"
   ],
   "metadata": {
    "collapsed": false,
    "pycharm": {
     "name": "#%%\n"
    }
   }
  },
  {
   "cell_type": "code",
   "execution_count": 1,
   "metadata": {
    "pycharm": {
     "is_executing": true
    }
   },
   "outputs": [],
   "source": [
    "import pandas as pd\n",
    "import numpy as np\n",
    "from CI_Experiments.config import PROJECT_DIR # if this line results ModuleNotFoundError, then execute the cell above"
   ]
  },
  {
   "cell_type": "code",
   "execution_count": 2,
   "metadata": {},
   "outputs": [],
   "source": [
    "UNPREPARED_PATH = PROJECT_DIR / 'data/unprepared_process_logs'\n",
    "PRODUCTION_DATA = UNPREPARED_PATH / 'Production.csv'\n",
    "DESTINATION_DATA = PROJECT_DIR / 'data/prepared_process_logs/Production/activity/activity.csv'"
   ]
  },
  {
   "cell_type": "code",
   "execution_count": 3,
   "metadata": {},
   "outputs": [
    {
     "data": {
      "text/html": [
       "<div>\n",
       "<style scoped>\n",
       "    .dataframe tbody tr th:only-of-type {\n",
       "        vertical-align: middle;\n",
       "    }\n",
       "\n",
       "    .dataframe tbody tr th {\n",
       "        vertical-align: top;\n",
       "    }\n",
       "\n",
       "    .dataframe thead th {\n",
       "        text-align: right;\n",
       "    }\n",
       "</style>\n",
       "<table border=\"1\" class=\"dataframe\">\n",
       "  <thead>\n",
       "    <tr style=\"text-align: right;\">\n",
       "      <th></th>\n",
       "      <th>Part_Desc_</th>\n",
       "      <th>Rework</th>\n",
       "      <th>Work_Order_Qty</th>\n",
       "      <th>Case ID</th>\n",
       "      <th>label</th>\n",
       "      <th>Activity</th>\n",
       "      <th>Resource</th>\n",
       "      <th>Report_Type</th>\n",
       "      <th>Resource.1</th>\n",
       "      <th>Qty_Completed</th>\n",
       "      <th>...</th>\n",
       "      <th>activity_duration</th>\n",
       "      <th>Complete Timestamp</th>\n",
       "      <th>timesincemidnight</th>\n",
       "      <th>month</th>\n",
       "      <th>weekday</th>\n",
       "      <th>hour</th>\n",
       "      <th>timesincelastevent</th>\n",
       "      <th>timesincecasestart</th>\n",
       "      <th>event_nr</th>\n",
       "      <th>open_cases</th>\n",
       "    </tr>\n",
       "  </thead>\n",
       "  <tbody>\n",
       "    <tr>\n",
       "      <th>0</th>\n",
       "      <td>Cable Head</td>\n",
       "      <td>missing</td>\n",
       "      <td>250</td>\n",
       "      <td>Case178</td>\n",
       "      <td>regular</td>\n",
       "      <td>Round Grinding - Machine 3</td>\n",
       "      <td>ID4445</td>\n",
       "      <td>D</td>\n",
       "      <td>Machine 3 - Round Grinding</td>\n",
       "      <td>31</td>\n",
       "      <td>...</td>\n",
       "      <td>290.0</td>\n",
       "      <td>2012-01-02 04:50:00</td>\n",
       "      <td>290</td>\n",
       "      <td>1</td>\n",
       "      <td>0</td>\n",
       "      <td>4</td>\n",
       "      <td>0.0</td>\n",
       "      <td>0.0</td>\n",
       "      <td>1</td>\n",
       "      <td>1</td>\n",
       "    </tr>\n",
       "    <tr>\n",
       "      <th>1</th>\n",
       "      <td>Electrical Contact</td>\n",
       "      <td>missing</td>\n",
       "      <td>320</td>\n",
       "      <td>Case238</td>\n",
       "      <td>deviant</td>\n",
       "      <td>Turning &amp; Milling - Machine 4</td>\n",
       "      <td>ID4794</td>\n",
       "      <td>S</td>\n",
       "      <td>Machine 4 - Turning &amp; Milling</td>\n",
       "      <td>0</td>\n",
       "      <td>...</td>\n",
       "      <td>360.0</td>\n",
       "      <td>2012-01-02 07:00:00</td>\n",
       "      <td>420</td>\n",
       "      <td>1</td>\n",
       "      <td>0</td>\n",
       "      <td>7</td>\n",
       "      <td>0.0</td>\n",
       "      <td>0.0</td>\n",
       "      <td>1</td>\n",
       "      <td>2</td>\n",
       "    </tr>\n",
       "    <tr>\n",
       "      <th>2</th>\n",
       "      <td>Cable Head</td>\n",
       "      <td>missing</td>\n",
       "      <td>200</td>\n",
       "      <td>Case187</td>\n",
       "      <td>deviant</td>\n",
       "      <td>Lapping - Machine 1</td>\n",
       "      <td>ID4882</td>\n",
       "      <td>D</td>\n",
       "      <td>Machine 1 - Lapping</td>\n",
       "      <td>0</td>\n",
       "      <td>...</td>\n",
       "      <td>150.0</td>\n",
       "      <td>2012-01-02 09:30:00</td>\n",
       "      <td>570</td>\n",
       "      <td>1</td>\n",
       "      <td>0</td>\n",
       "      <td>9</td>\n",
       "      <td>0.0</td>\n",
       "      <td>0.0</td>\n",
       "      <td>1</td>\n",
       "      <td>3</td>\n",
       "    </tr>\n",
       "    <tr>\n",
       "      <th>3</th>\n",
       "      <td>Cable Head</td>\n",
       "      <td>missing</td>\n",
       "      <td>250</td>\n",
       "      <td>Case178</td>\n",
       "      <td>regular</td>\n",
       "      <td>Round Grinding - Machine 2</td>\n",
       "      <td>ID4355</td>\n",
       "      <td>S</td>\n",
       "      <td>Machine 2 - Round Grinding</td>\n",
       "      <td>0</td>\n",
       "      <td>...</td>\n",
       "      <td>60.0</td>\n",
       "      <td>2012-01-02 11:00:00</td>\n",
       "      <td>660</td>\n",
       "      <td>1</td>\n",
       "      <td>0</td>\n",
       "      <td>11</td>\n",
       "      <td>370.0</td>\n",
       "      <td>370.0</td>\n",
       "      <td>2</td>\n",
       "      <td>4</td>\n",
       "    </tr>\n",
       "    <tr>\n",
       "      <th>4</th>\n",
       "      <td>Compound Dies</td>\n",
       "      <td>missing</td>\n",
       "      <td>18</td>\n",
       "      <td>Case263</td>\n",
       "      <td>regular</td>\n",
       "      <td>Turning &amp; Milling - Machine 8</td>\n",
       "      <td>ID4219</td>\n",
       "      <td>S</td>\n",
       "      <td>Machine 8 - Turning &amp; Milling</td>\n",
       "      <td>0</td>\n",
       "      <td>...</td>\n",
       "      <td>120.0</td>\n",
       "      <td>2012-01-02 11:00:00</td>\n",
       "      <td>660</td>\n",
       "      <td>1</td>\n",
       "      <td>0</td>\n",
       "      <td>11</td>\n",
       "      <td>0.0</td>\n",
       "      <td>0.0</td>\n",
       "      <td>1</td>\n",
       "      <td>4</td>\n",
       "    </tr>\n",
       "  </tbody>\n",
       "</table>\n",
       "<p>5 rows × 21 columns</p>\n",
       "</div>"
      ],
      "text/plain": [
       "           Part_Desc_   Rework  Work_Order_Qty  Case ID    label  \\\n",
       "0          Cable Head  missing             250  Case178  regular   \n",
       "1  Electrical Contact  missing             320  Case238  deviant   \n",
       "2          Cable Head  missing             200  Case187  deviant   \n",
       "3          Cable Head  missing             250  Case178  regular   \n",
       "4       Compound Dies  missing              18  Case263  regular   \n",
       "\n",
       "                        Activity Resource Report_Type  \\\n",
       "0     Round Grinding - Machine 3   ID4445           D   \n",
       "1  Turning & Milling - Machine 4   ID4794           S   \n",
       "2            Lapping - Machine 1   ID4882           D   \n",
       "3     Round Grinding - Machine 2   ID4355           S   \n",
       "4  Turning & Milling - Machine 8   ID4219           S   \n",
       "\n",
       "                      Resource.1  Qty_Completed  ...  activity_duration  \\\n",
       "0     Machine 3 - Round Grinding             31  ...              290.0   \n",
       "1  Machine 4 - Turning & Milling              0  ...              360.0   \n",
       "2            Machine 1 - Lapping              0  ...              150.0   \n",
       "3     Machine 2 - Round Grinding              0  ...               60.0   \n",
       "4  Machine 8 - Turning & Milling              0  ...              120.0   \n",
       "\n",
       "    Complete Timestamp timesincemidnight  month  weekday  hour  \\\n",
       "0  2012-01-02 04:50:00               290      1        0     4   \n",
       "1  2012-01-02 07:00:00               420      1        0     7   \n",
       "2  2012-01-02 09:30:00               570      1        0     9   \n",
       "3  2012-01-02 11:00:00               660      1        0    11   \n",
       "4  2012-01-02 11:00:00               660      1        0    11   \n",
       "\n",
       "   timesincelastevent  timesincecasestart  event_nr  open_cases  \n",
       "0                 0.0                 0.0         1           1  \n",
       "1                 0.0                 0.0         1           2  \n",
       "2                 0.0                 0.0         1           3  \n",
       "3               370.0               370.0         2           4  \n",
       "4                 0.0                 0.0         1           4  \n",
       "\n",
       "[5 rows x 21 columns]"
      ]
     },
     "execution_count": 3,
     "metadata": {},
     "output_type": "execute_result"
    }
   ],
   "source": [
    "unprepared_data = pd.read_csv(PRODUCTION_DATA, sep=';')\n",
    "unprepared_data.head()"
   ]
  },
  {
   "cell_type": "code",
   "execution_count": 4,
   "metadata": {},
   "outputs": [
    {
     "data": {
      "text/plain": [
       "Index(['Part_Desc_', 'Rework', 'Work_Order_Qty', 'Case ID', 'label',\n",
       "       'Activity', 'Resource', 'Report_Type', 'Resource.1', 'Qty_Completed',\n",
       "       'Qty_for_MRB', 'activity_duration', 'Complete Timestamp',\n",
       "       'timesincemidnight', 'month', 'weekday', 'hour', 'timesincelastevent',\n",
       "       'timesincecasestart', 'event_nr', 'open_cases'],\n",
       "      dtype='object')"
      ]
     },
     "execution_count": 4,
     "metadata": {},
     "output_type": "execute_result"
    }
   ],
   "source": [
    "unprepared_data.columns"
   ]
  },
  {
   "cell_type": "code",
   "execution_count": 5,
   "metadata": {},
   "outputs": [],
   "source": [
    "four_columns_for_activity = [\n",
    "    'Case ID',\n",
    "    'label',\n",
    "    'Activity',\n",
    "    'Complete Timestamp'\n",
    "]"
   ]
  },
  {
   "cell_type": "code",
   "execution_count": 6,
   "metadata": {},
   "outputs": [
    {
     "data": {
      "text/html": [
       "<div>\n",
       "<style scoped>\n",
       "    .dataframe tbody tr th:only-of-type {\n",
       "        vertical-align: middle;\n",
       "    }\n",
       "\n",
       "    .dataframe tbody tr th {\n",
       "        vertical-align: top;\n",
       "    }\n",
       "\n",
       "    .dataframe thead th {\n",
       "        text-align: right;\n",
       "    }\n",
       "</style>\n",
       "<table border=\"1\" class=\"dataframe\">\n",
       "  <thead>\n",
       "    <tr style=\"text-align: right;\">\n",
       "      <th></th>\n",
       "      <th>Case ID</th>\n",
       "      <th>label</th>\n",
       "      <th>Activity</th>\n",
       "      <th>Complete Timestamp</th>\n",
       "    </tr>\n",
       "  </thead>\n",
       "  <tbody>\n",
       "    <tr>\n",
       "      <th>0</th>\n",
       "      <td>Case178</td>\n",
       "      <td>regular</td>\n",
       "      <td>Round Grinding - Machine 3</td>\n",
       "      <td>2012-01-02 04:50:00</td>\n",
       "    </tr>\n",
       "    <tr>\n",
       "      <th>1</th>\n",
       "      <td>Case238</td>\n",
       "      <td>deviant</td>\n",
       "      <td>Turning &amp; Milling - Machine 4</td>\n",
       "      <td>2012-01-02 07:00:00</td>\n",
       "    </tr>\n",
       "    <tr>\n",
       "      <th>2</th>\n",
       "      <td>Case187</td>\n",
       "      <td>deviant</td>\n",
       "      <td>Lapping - Machine 1</td>\n",
       "      <td>2012-01-02 09:30:00</td>\n",
       "    </tr>\n",
       "    <tr>\n",
       "      <th>3</th>\n",
       "      <td>Case178</td>\n",
       "      <td>regular</td>\n",
       "      <td>Round Grinding - Machine 2</td>\n",
       "      <td>2012-01-02 11:00:00</td>\n",
       "    </tr>\n",
       "    <tr>\n",
       "      <th>4</th>\n",
       "      <td>Case263</td>\n",
       "      <td>regular</td>\n",
       "      <td>Turning &amp; Milling - Machine 8</td>\n",
       "      <td>2012-01-02 11:00:00</td>\n",
       "    </tr>\n",
       "  </tbody>\n",
       "</table>\n",
       "</div>"
      ],
      "text/plain": [
       "   Case ID    label                       Activity   Complete Timestamp\n",
       "0  Case178  regular     Round Grinding - Machine 3  2012-01-02 04:50:00\n",
       "1  Case238  deviant  Turning & Milling - Machine 4  2012-01-02 07:00:00\n",
       "2  Case187  deviant            Lapping - Machine 1  2012-01-02 09:30:00\n",
       "3  Case178  regular     Round Grinding - Machine 2  2012-01-02 11:00:00\n",
       "4  Case263  regular  Turning & Milling - Machine 8  2012-01-02 11:00:00"
      ]
     },
     "execution_count": 6,
     "metadata": {},
     "output_type": "execute_result"
    }
   ],
   "source": [
    "activity_data = unprepared_data[four_columns_for_activity]\n",
    "activity_data.head()"
   ]
  },
  {
   "cell_type": "code",
   "execution_count": 7,
   "metadata": {},
   "outputs": [
    {
     "name": "stderr",
     "output_type": "stream",
     "text": [
      "/var/folders/2v/0cy8xvx12vl1y6x611k263_w0000gn/T/ipykernel_84225/2959549615.py:1: SettingWithCopyWarning: \n",
      "A value is trying to be set on a copy of a slice from a DataFrame.\n",
      "Try using .loc[row_indexer,col_indexer] = value instead\n",
      "\n",
      "See the caveats in the documentation: https://pandas.pydata.org/pandas-docs/stable/user_guide/indexing.html#returning-a-view-versus-a-copy\n",
      "  activity_data['label'] = np.where(activity_data['label'] == 'deviant', 1, 0)\n"
     ]
    },
    {
     "data": {
      "text/html": [
       "<div>\n",
       "<style scoped>\n",
       "    .dataframe tbody tr th:only-of-type {\n",
       "        vertical-align: middle;\n",
       "    }\n",
       "\n",
       "    .dataframe tbody tr th {\n",
       "        vertical-align: top;\n",
       "    }\n",
       "\n",
       "    .dataframe thead th {\n",
       "        text-align: right;\n",
       "    }\n",
       "</style>\n",
       "<table border=\"1\" class=\"dataframe\">\n",
       "  <thead>\n",
       "    <tr style=\"text-align: right;\">\n",
       "      <th></th>\n",
       "      <th>Case ID</th>\n",
       "      <th>label</th>\n",
       "      <th>Activity</th>\n",
       "      <th>Complete Timestamp</th>\n",
       "    </tr>\n",
       "  </thead>\n",
       "  <tbody>\n",
       "    <tr>\n",
       "      <th>0</th>\n",
       "      <td>Case178</td>\n",
       "      <td>0</td>\n",
       "      <td>Round Grinding - Machine 3</td>\n",
       "      <td>2012-01-02 04:50:00</td>\n",
       "    </tr>\n",
       "    <tr>\n",
       "      <th>1</th>\n",
       "      <td>Case238</td>\n",
       "      <td>1</td>\n",
       "      <td>Turning &amp; Milling - Machine 4</td>\n",
       "      <td>2012-01-02 07:00:00</td>\n",
       "    </tr>\n",
       "    <tr>\n",
       "      <th>2</th>\n",
       "      <td>Case187</td>\n",
       "      <td>1</td>\n",
       "      <td>Lapping - Machine 1</td>\n",
       "      <td>2012-01-02 09:30:00</td>\n",
       "    </tr>\n",
       "    <tr>\n",
       "      <th>3</th>\n",
       "      <td>Case178</td>\n",
       "      <td>0</td>\n",
       "      <td>Round Grinding - Machine 2</td>\n",
       "      <td>2012-01-02 11:00:00</td>\n",
       "    </tr>\n",
       "    <tr>\n",
       "      <th>4</th>\n",
       "      <td>Case263</td>\n",
       "      <td>0</td>\n",
       "      <td>Turning &amp; Milling - Machine 8</td>\n",
       "      <td>2012-01-02 11:00:00</td>\n",
       "    </tr>\n",
       "  </tbody>\n",
       "</table>\n",
       "</div>"
      ],
      "text/plain": [
       "   Case ID  label                       Activity   Complete Timestamp\n",
       "0  Case178      0     Round Grinding - Machine 3  2012-01-02 04:50:00\n",
       "1  Case238      1  Turning & Milling - Machine 4  2012-01-02 07:00:00\n",
       "2  Case187      1            Lapping - Machine 1  2012-01-02 09:30:00\n",
       "3  Case178      0     Round Grinding - Machine 2  2012-01-02 11:00:00\n",
       "4  Case263      0  Turning & Milling - Machine 8  2012-01-02 11:00:00"
      ]
     },
     "execution_count": 7,
     "metadata": {},
     "output_type": "execute_result"
    }
   ],
   "source": [
    "activity_data['label'] = np.where(activity_data['label'] == 'deviant', 1, 0)\n",
    "activity_data.head()"
   ]
  },
  {
   "cell_type": "code",
   "execution_count": 8,
   "metadata": {},
   "outputs": [
    {
     "data": {
      "text/html": [
       "<div>\n",
       "<style scoped>\n",
       "    .dataframe tbody tr th:only-of-type {\n",
       "        vertical-align: middle;\n",
       "    }\n",
       "\n",
       "    .dataframe tbody tr th {\n",
       "        vertical-align: top;\n",
       "    }\n",
       "\n",
       "    .dataframe thead th {\n",
       "        text-align: right;\n",
       "    }\n",
       "</style>\n",
       "<table border=\"1\" class=\"dataframe\">\n",
       "  <thead>\n",
       "    <tr style=\"text-align: right;\">\n",
       "      <th></th>\n",
       "      <th>Case ID</th>\n",
       "      <th>Outcome</th>\n",
       "      <th>Activity</th>\n",
       "      <th>Timestamp</th>\n",
       "    </tr>\n",
       "  </thead>\n",
       "  <tbody>\n",
       "    <tr>\n",
       "      <th>0</th>\n",
       "      <td>Case178</td>\n",
       "      <td>0</td>\n",
       "      <td>Round Grinding - Machine 3</td>\n",
       "      <td>2012-01-02 04:50:00</td>\n",
       "    </tr>\n",
       "    <tr>\n",
       "      <th>1</th>\n",
       "      <td>Case238</td>\n",
       "      <td>1</td>\n",
       "      <td>Turning &amp; Milling - Machine 4</td>\n",
       "      <td>2012-01-02 07:00:00</td>\n",
       "    </tr>\n",
       "    <tr>\n",
       "      <th>2</th>\n",
       "      <td>Case187</td>\n",
       "      <td>1</td>\n",
       "      <td>Lapping - Machine 1</td>\n",
       "      <td>2012-01-02 09:30:00</td>\n",
       "    </tr>\n",
       "    <tr>\n",
       "      <th>3</th>\n",
       "      <td>Case178</td>\n",
       "      <td>0</td>\n",
       "      <td>Round Grinding - Machine 2</td>\n",
       "      <td>2012-01-02 11:00:00</td>\n",
       "    </tr>\n",
       "    <tr>\n",
       "      <th>4</th>\n",
       "      <td>Case263</td>\n",
       "      <td>0</td>\n",
       "      <td>Turning &amp; Milling - Machine 8</td>\n",
       "      <td>2012-01-02 11:00:00</td>\n",
       "    </tr>\n",
       "  </tbody>\n",
       "</table>\n",
       "</div>"
      ],
      "text/plain": [
       "   Case ID  Outcome                       Activity            Timestamp\n",
       "0  Case178        0     Round Grinding - Machine 3  2012-01-02 04:50:00\n",
       "1  Case238        1  Turning & Milling - Machine 4  2012-01-02 07:00:00\n",
       "2  Case187        1            Lapping - Machine 1  2012-01-02 09:30:00\n",
       "3  Case178        0     Round Grinding - Machine 2  2012-01-02 11:00:00\n",
       "4  Case263        0  Turning & Milling - Machine 8  2012-01-02 11:00:00"
      ]
     },
     "execution_count": 8,
     "metadata": {},
     "output_type": "execute_result"
    }
   ],
   "source": [
    "activity_data = activity_data.rename(columns={'label': 'Outcome', 'Complete Timestamp': 'Timestamp'})\n",
    "activity_data.head()"
   ]
  },
  {
   "cell_type": "code",
   "execution_count": 10,
   "metadata": {},
   "outputs": [],
   "source": [
    "activity_data.to_csv(DESTINATION_DATA, index=False)"
   ]
  },
  {
   "cell_type": "code",
   "execution_count": 9,
   "metadata": {},
   "outputs": [
    {
     "data": {
      "text/plain": [
       "26"
      ]
     },
     "execution_count": 9,
     "metadata": {},
     "output_type": "execute_result"
    }
   ],
   "source": [
    "len(activity_data['Activity'].unique())"
   ]
  },
  {
   "cell_type": "code",
   "execution_count": 11,
   "metadata": {},
   "outputs": [
    {
     "data": {
      "text/plain": [
       "11.313636363636364"
      ]
     },
     "execution_count": 11,
     "metadata": {},
     "output_type": "execute_result"
    }
   ],
   "source": [
    "np.mean(activity_data.groupby('Case ID').count()['Activity'])"
   ]
  },
  {
   "cell_type": "code",
   "execution_count": null,
   "metadata": {},
   "outputs": [],
   "source": []
  }
 ],
 "metadata": {
  "kernelspec": {
   "display_name": "Python 3 (ipykernel)",
   "language": "python",
   "name": "python3"
  },
  "language_info": {
   "codemirror_mode": {
    "name": "ipython",
    "version": 3
   },
   "file_extension": ".py",
   "mimetype": "text/x-python",
   "name": "python",
   "nbconvert_exporter": "python",
   "pygments_lexer": "ipython3",
   "version": "3.8.16"
  }
 },
 "nbformat": 4,
 "nbformat_minor": 1
}
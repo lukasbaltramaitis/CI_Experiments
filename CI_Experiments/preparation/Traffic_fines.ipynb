{
 "cells": [
  {
   "cell_type": "markdown",
   "source": [
    "# Traffic fines dataset preparation"
   ],
   "metadata": {
    "collapsed": false
   }
  },
  {
   "cell_type": "code",
   "execution_count": null,
   "outputs": [],
   "source": [
    "# Skip this cell, at first\n",
    "import os\n",
    "os.chdir('../..')\n",
    "os.getcwd()"
   ],
   "metadata": {
    "collapsed": false,
    "pycharm": {
     "name": "#%%\n"
    }
   }
  },
  {
   "cell_type": "code",
   "execution_count": 1,
   "metadata": {
    "pycharm": {
     "is_executing": true
    }
   },
   "outputs": [],
   "source": [
    "import pandas as pd\n",
    "import numpy as np\n",
    "from CI_Experiments.config import PROJECT_DIR # if this line results ModuleNotFoundError, then execute the cell above"
   ]
  },
  {
   "cell_type": "code",
   "execution_count": 2,
   "metadata": {},
   "outputs": [],
   "source": [
    "UNPREPARED_PATH = PROJECT_DIR / 'data/unprepared_process_logs'\n",
    "PRODUCTION_DATA = UNPREPARED_PATH / 'traffic_fines.csv'\n",
    "DESTINATION_DATA = PROJECT_DIR / 'data/prepared_process_logs/traffic_fines/activity/activity.csv'"
   ]
  },
  {
   "cell_type": "code",
   "execution_count": 3,
   "metadata": {},
   "outputs": [
    {
     "name": "stderr",
     "output_type": "stream",
     "text": [
      "/var/folders/2v/0cy8xvx12vl1y6x611k263_w0000gn/T/ipykernel_84821/2385976885.py:1: DtypeWarning: Columns (0,6) have mixed types. Specify dtype option on import or set low_memory=False.\n",
      "  unprepared_data = pd.read_csv(PRODUCTION_DATA, sep=';')\n"
     ]
    },
    {
     "data": {
      "text/html": [
       "<div>\n",
       "<style scoped>\n",
       "    .dataframe tbody tr th:only-of-type {\n",
       "        vertical-align: middle;\n",
       "    }\n",
       "\n",
       "    .dataframe tbody tr th {\n",
       "        vertical-align: top;\n",
       "    }\n",
       "\n",
       "    .dataframe thead th {\n",
       "        text-align: right;\n",
       "    }\n",
       "</style>\n",
       "<table border=\"1\" class=\"dataframe\">\n",
       "  <thead>\n",
       "    <tr style=\"text-align: right;\">\n",
       "      <th></th>\n",
       "      <th>article</th>\n",
       "      <th>vehicleClass</th>\n",
       "      <th>amount</th>\n",
       "      <th>points</th>\n",
       "      <th>Case ID</th>\n",
       "      <th>Activity</th>\n",
       "      <th>Resource</th>\n",
       "      <th>lastSent</th>\n",
       "      <th>notificationType</th>\n",
       "      <th>dismissal</th>\n",
       "      <th>...</th>\n",
       "      <th>Complete Timestamp</th>\n",
       "      <th>timesincemidnight</th>\n",
       "      <th>month</th>\n",
       "      <th>weekday</th>\n",
       "      <th>hour</th>\n",
       "      <th>timesincelastevent</th>\n",
       "      <th>timesincecasestart</th>\n",
       "      <th>event_nr</th>\n",
       "      <th>open_cases</th>\n",
       "      <th>label</th>\n",
       "    </tr>\n",
       "  </thead>\n",
       "  <tbody>\n",
       "    <tr>\n",
       "      <th>0</th>\n",
       "      <td>157.0</td>\n",
       "      <td>A</td>\n",
       "      <td>35.0</td>\n",
       "      <td>0.0</td>\n",
       "      <td>A100</td>\n",
       "      <td>Create Fine</td>\n",
       "      <td>561.0</td>\n",
       "      <td>missing</td>\n",
       "      <td>missing</td>\n",
       "      <td>NIL</td>\n",
       "      <td>...</td>\n",
       "      <td>2006-08-02 01:00:00</td>\n",
       "      <td>60</td>\n",
       "      <td>8</td>\n",
       "      <td>2</td>\n",
       "      <td>1</td>\n",
       "      <td>0.0</td>\n",
       "      <td>0.0</td>\n",
       "      <td>1</td>\n",
       "      <td>11246</td>\n",
       "      <td>deviant</td>\n",
       "    </tr>\n",
       "    <tr>\n",
       "      <th>1</th>\n",
       "      <td>157.0</td>\n",
       "      <td>A</td>\n",
       "      <td>35.0</td>\n",
       "      <td>0.0</td>\n",
       "      <td>A100</td>\n",
       "      <td>Send Fine</td>\n",
       "      <td>561.0</td>\n",
       "      <td>missing</td>\n",
       "      <td>missing</td>\n",
       "      <td>NIL</td>\n",
       "      <td>...</td>\n",
       "      <td>2006-12-12 01:00:00</td>\n",
       "      <td>60</td>\n",
       "      <td>12</td>\n",
       "      <td>1</td>\n",
       "      <td>1</td>\n",
       "      <td>190080.0</td>\n",
       "      <td>190080.0</td>\n",
       "      <td>2</td>\n",
       "      <td>12380</td>\n",
       "      <td>deviant</td>\n",
       "    </tr>\n",
       "    <tr>\n",
       "      <th>2</th>\n",
       "      <td>157.0</td>\n",
       "      <td>A</td>\n",
       "      <td>35.0</td>\n",
       "      <td>0.0</td>\n",
       "      <td>A100</td>\n",
       "      <td>Insert Fine Notification</td>\n",
       "      <td>561.0</td>\n",
       "      <td>P</td>\n",
       "      <td>P</td>\n",
       "      <td>NIL</td>\n",
       "      <td>...</td>\n",
       "      <td>2007-01-15 01:00:00</td>\n",
       "      <td>60</td>\n",
       "      <td>1</td>\n",
       "      <td>0</td>\n",
       "      <td>1</td>\n",
       "      <td>48960.0</td>\n",
       "      <td>239040.0</td>\n",
       "      <td>3</td>\n",
       "      <td>12202</td>\n",
       "      <td>deviant</td>\n",
       "    </tr>\n",
       "    <tr>\n",
       "      <th>3</th>\n",
       "      <td>157.0</td>\n",
       "      <td>A</td>\n",
       "      <td>71.5</td>\n",
       "      <td>0.0</td>\n",
       "      <td>A100</td>\n",
       "      <td>Add penalty</td>\n",
       "      <td>561.0</td>\n",
       "      <td>P</td>\n",
       "      <td>P</td>\n",
       "      <td>NIL</td>\n",
       "      <td>...</td>\n",
       "      <td>2007-03-16 01:00:00</td>\n",
       "      <td>60</td>\n",
       "      <td>3</td>\n",
       "      <td>4</td>\n",
       "      <td>1</td>\n",
       "      <td>86400.0</td>\n",
       "      <td>325440.0</td>\n",
       "      <td>4</td>\n",
       "      <td>7749</td>\n",
       "      <td>deviant</td>\n",
       "    </tr>\n",
       "    <tr>\n",
       "      <th>4</th>\n",
       "      <td>157.0</td>\n",
       "      <td>A</td>\n",
       "      <td>36.0</td>\n",
       "      <td>0.0</td>\n",
       "      <td>A10000</td>\n",
       "      <td>Create Fine</td>\n",
       "      <td>561.0</td>\n",
       "      <td>missing</td>\n",
       "      <td>missing</td>\n",
       "      <td>NIL</td>\n",
       "      <td>...</td>\n",
       "      <td>2007-03-09 01:00:00</td>\n",
       "      <td>60</td>\n",
       "      <td>3</td>\n",
       "      <td>4</td>\n",
       "      <td>1</td>\n",
       "      <td>0.0</td>\n",
       "      <td>0.0</td>\n",
       "      <td>1</td>\n",
       "      <td>7756</td>\n",
       "      <td>regular</td>\n",
       "    </tr>\n",
       "  </tbody>\n",
       "</table>\n",
       "<p>5 rows × 21 columns</p>\n",
       "</div>"
      ],
      "text/plain": [
       "  article vehicleClass  amount  points Case ID                  Activity  \\\n",
       "0   157.0            A    35.0     0.0    A100               Create Fine   \n",
       "1   157.0            A    35.0     0.0    A100                 Send Fine   \n",
       "2   157.0            A    35.0     0.0    A100  Insert Fine Notification   \n",
       "3   157.0            A    71.5     0.0    A100               Add penalty   \n",
       "4   157.0            A    36.0     0.0  A10000               Create Fine   \n",
       "\n",
       "  Resource lastSent notificationType dismissal  ...   Complete Timestamp  \\\n",
       "0    561.0  missing          missing       NIL  ...  2006-08-02 01:00:00   \n",
       "1    561.0  missing          missing       NIL  ...  2006-12-12 01:00:00   \n",
       "2    561.0        P                P       NIL  ...  2007-01-15 01:00:00   \n",
       "3    561.0        P                P       NIL  ...  2007-03-16 01:00:00   \n",
       "4    561.0  missing          missing       NIL  ...  2007-03-09 01:00:00   \n",
       "\n",
       "  timesincemidnight  month  weekday  hour  timesincelastevent  \\\n",
       "0                60      8        2     1                 0.0   \n",
       "1                60     12        1     1            190080.0   \n",
       "2                60      1        0     1             48960.0   \n",
       "3                60      3        4     1             86400.0   \n",
       "4                60      3        4     1                 0.0   \n",
       "\n",
       "   timesincecasestart  event_nr  open_cases    label  \n",
       "0                 0.0         1       11246  deviant  \n",
       "1            190080.0         2       12380  deviant  \n",
       "2            239040.0         3       12202  deviant  \n",
       "3            325440.0         4        7749  deviant  \n",
       "4                 0.0         1        7756  regular  \n",
       "\n",
       "[5 rows x 21 columns]"
      ]
     },
     "execution_count": 3,
     "metadata": {},
     "output_type": "execute_result"
    }
   ],
   "source": [
    "unprepared_data = pd.read_csv(PRODUCTION_DATA, sep=';')\n",
    "unprepared_data.head()"
   ]
  },
  {
   "cell_type": "code",
   "execution_count": 4,
   "metadata": {},
   "outputs": [
    {
     "data": {
      "text/plain": [
       "Index(['article', 'vehicleClass', 'amount', 'points', 'Case ID', 'Activity',\n",
       "       'Resource', 'lastSent', 'notificationType', 'dismissal', 'expense',\n",
       "       'Complete Timestamp', 'timesincemidnight', 'month', 'weekday', 'hour',\n",
       "       'timesincelastevent', 'timesincecasestart', 'event_nr', 'open_cases',\n",
       "       'label'],\n",
       "      dtype='object')"
      ]
     },
     "execution_count": 4,
     "metadata": {},
     "output_type": "execute_result"
    }
   ],
   "source": [
    "unprepared_data.columns"
   ]
  },
  {
   "cell_type": "code",
   "execution_count": 5,
   "metadata": {},
   "outputs": [],
   "source": [
    "four_columns_for_activity = [\n",
    "    'Case ID',\n",
    "    'label',\n",
    "    'Activity',\n",
    "    'Complete Timestamp'\n",
    "]"
   ]
  },
  {
   "cell_type": "code",
   "execution_count": 6,
   "metadata": {},
   "outputs": [
    {
     "data": {
      "text/html": [
       "<div>\n",
       "<style scoped>\n",
       "    .dataframe tbody tr th:only-of-type {\n",
       "        vertical-align: middle;\n",
       "    }\n",
       "\n",
       "    .dataframe tbody tr th {\n",
       "        vertical-align: top;\n",
       "    }\n",
       "\n",
       "    .dataframe thead th {\n",
       "        text-align: right;\n",
       "    }\n",
       "</style>\n",
       "<table border=\"1\" class=\"dataframe\">\n",
       "  <thead>\n",
       "    <tr style=\"text-align: right;\">\n",
       "      <th></th>\n",
       "      <th>Case ID</th>\n",
       "      <th>label</th>\n",
       "      <th>Activity</th>\n",
       "      <th>Complete Timestamp</th>\n",
       "    </tr>\n",
       "  </thead>\n",
       "  <tbody>\n",
       "    <tr>\n",
       "      <th>0</th>\n",
       "      <td>A100</td>\n",
       "      <td>deviant</td>\n",
       "      <td>Create Fine</td>\n",
       "      <td>2006-08-02 01:00:00</td>\n",
       "    </tr>\n",
       "    <tr>\n",
       "      <th>1</th>\n",
       "      <td>A100</td>\n",
       "      <td>deviant</td>\n",
       "      <td>Send Fine</td>\n",
       "      <td>2006-12-12 01:00:00</td>\n",
       "    </tr>\n",
       "    <tr>\n",
       "      <th>2</th>\n",
       "      <td>A100</td>\n",
       "      <td>deviant</td>\n",
       "      <td>Insert Fine Notification</td>\n",
       "      <td>2007-01-15 01:00:00</td>\n",
       "    </tr>\n",
       "    <tr>\n",
       "      <th>3</th>\n",
       "      <td>A100</td>\n",
       "      <td>deviant</td>\n",
       "      <td>Add penalty</td>\n",
       "      <td>2007-03-16 01:00:00</td>\n",
       "    </tr>\n",
       "    <tr>\n",
       "      <th>4</th>\n",
       "      <td>A10000</td>\n",
       "      <td>regular</td>\n",
       "      <td>Create Fine</td>\n",
       "      <td>2007-03-09 01:00:00</td>\n",
       "    </tr>\n",
       "  </tbody>\n",
       "</table>\n",
       "</div>"
      ],
      "text/plain": [
       "  Case ID    label                  Activity   Complete Timestamp\n",
       "0    A100  deviant               Create Fine  2006-08-02 01:00:00\n",
       "1    A100  deviant                 Send Fine  2006-12-12 01:00:00\n",
       "2    A100  deviant  Insert Fine Notification  2007-01-15 01:00:00\n",
       "3    A100  deviant               Add penalty  2007-03-16 01:00:00\n",
       "4  A10000  regular               Create Fine  2007-03-09 01:00:00"
      ]
     },
     "execution_count": 6,
     "metadata": {},
     "output_type": "execute_result"
    }
   ],
   "source": [
    "activity_data = unprepared_data[four_columns_for_activity]\n",
    "activity_data.head()"
   ]
  },
  {
   "cell_type": "code",
   "execution_count": 7,
   "metadata": {},
   "outputs": [
    {
     "name": "stderr",
     "output_type": "stream",
     "text": [
      "/var/folders/2v/0cy8xvx12vl1y6x611k263_w0000gn/T/ipykernel_84821/2959549615.py:1: SettingWithCopyWarning: \n",
      "A value is trying to be set on a copy of a slice from a DataFrame.\n",
      "Try using .loc[row_indexer,col_indexer] = value instead\n",
      "\n",
      "See the caveats in the documentation: https://pandas.pydata.org/pandas-docs/stable/user_guide/indexing.html#returning-a-view-versus-a-copy\n",
      "  activity_data['label'] = np.where(activity_data['label'] == 'deviant', 1, 0)\n"
     ]
    },
    {
     "data": {
      "text/html": [
       "<div>\n",
       "<style scoped>\n",
       "    .dataframe tbody tr th:only-of-type {\n",
       "        vertical-align: middle;\n",
       "    }\n",
       "\n",
       "    .dataframe tbody tr th {\n",
       "        vertical-align: top;\n",
       "    }\n",
       "\n",
       "    .dataframe thead th {\n",
       "        text-align: right;\n",
       "    }\n",
       "</style>\n",
       "<table border=\"1\" class=\"dataframe\">\n",
       "  <thead>\n",
       "    <tr style=\"text-align: right;\">\n",
       "      <th></th>\n",
       "      <th>Case ID</th>\n",
       "      <th>label</th>\n",
       "      <th>Activity</th>\n",
       "      <th>Complete Timestamp</th>\n",
       "    </tr>\n",
       "  </thead>\n",
       "  <tbody>\n",
       "    <tr>\n",
       "      <th>0</th>\n",
       "      <td>A100</td>\n",
       "      <td>1</td>\n",
       "      <td>Create Fine</td>\n",
       "      <td>2006-08-02 01:00:00</td>\n",
       "    </tr>\n",
       "    <tr>\n",
       "      <th>1</th>\n",
       "      <td>A100</td>\n",
       "      <td>1</td>\n",
       "      <td>Send Fine</td>\n",
       "      <td>2006-12-12 01:00:00</td>\n",
       "    </tr>\n",
       "    <tr>\n",
       "      <th>2</th>\n",
       "      <td>A100</td>\n",
       "      <td>1</td>\n",
       "      <td>Insert Fine Notification</td>\n",
       "      <td>2007-01-15 01:00:00</td>\n",
       "    </tr>\n",
       "    <tr>\n",
       "      <th>3</th>\n",
       "      <td>A100</td>\n",
       "      <td>1</td>\n",
       "      <td>Add penalty</td>\n",
       "      <td>2007-03-16 01:00:00</td>\n",
       "    </tr>\n",
       "    <tr>\n",
       "      <th>4</th>\n",
       "      <td>A10000</td>\n",
       "      <td>0</td>\n",
       "      <td>Create Fine</td>\n",
       "      <td>2007-03-09 01:00:00</td>\n",
       "    </tr>\n",
       "  </tbody>\n",
       "</table>\n",
       "</div>"
      ],
      "text/plain": [
       "  Case ID  label                  Activity   Complete Timestamp\n",
       "0    A100      1               Create Fine  2006-08-02 01:00:00\n",
       "1    A100      1                 Send Fine  2006-12-12 01:00:00\n",
       "2    A100      1  Insert Fine Notification  2007-01-15 01:00:00\n",
       "3    A100      1               Add penalty  2007-03-16 01:00:00\n",
       "4  A10000      0               Create Fine  2007-03-09 01:00:00"
      ]
     },
     "execution_count": 7,
     "metadata": {},
     "output_type": "execute_result"
    }
   ],
   "source": [
    "activity_data['label'] = np.where(activity_data['label'] == 'deviant', 1, 0)\n",
    "activity_data.head()"
   ]
  },
  {
   "cell_type": "code",
   "execution_count": 8,
   "metadata": {},
   "outputs": [
    {
     "data": {
      "text/html": [
       "<div>\n",
       "<style scoped>\n",
       "    .dataframe tbody tr th:only-of-type {\n",
       "        vertical-align: middle;\n",
       "    }\n",
       "\n",
       "    .dataframe tbody tr th {\n",
       "        vertical-align: top;\n",
       "    }\n",
       "\n",
       "    .dataframe thead th {\n",
       "        text-align: right;\n",
       "    }\n",
       "</style>\n",
       "<table border=\"1\" class=\"dataframe\">\n",
       "  <thead>\n",
       "    <tr style=\"text-align: right;\">\n",
       "      <th></th>\n",
       "      <th>Case ID</th>\n",
       "      <th>Outcome</th>\n",
       "      <th>Activity</th>\n",
       "      <th>Timestamp</th>\n",
       "    </tr>\n",
       "  </thead>\n",
       "  <tbody>\n",
       "    <tr>\n",
       "      <th>0</th>\n",
       "      <td>A100</td>\n",
       "      <td>1</td>\n",
       "      <td>Create Fine</td>\n",
       "      <td>2006-08-02 01:00:00</td>\n",
       "    </tr>\n",
       "    <tr>\n",
       "      <th>1</th>\n",
       "      <td>A100</td>\n",
       "      <td>1</td>\n",
       "      <td>Send Fine</td>\n",
       "      <td>2006-12-12 01:00:00</td>\n",
       "    </tr>\n",
       "    <tr>\n",
       "      <th>2</th>\n",
       "      <td>A100</td>\n",
       "      <td>1</td>\n",
       "      <td>Insert Fine Notification</td>\n",
       "      <td>2007-01-15 01:00:00</td>\n",
       "    </tr>\n",
       "    <tr>\n",
       "      <th>3</th>\n",
       "      <td>A100</td>\n",
       "      <td>1</td>\n",
       "      <td>Add penalty</td>\n",
       "      <td>2007-03-16 01:00:00</td>\n",
       "    </tr>\n",
       "    <tr>\n",
       "      <th>4</th>\n",
       "      <td>A10000</td>\n",
       "      <td>0</td>\n",
       "      <td>Create Fine</td>\n",
       "      <td>2007-03-09 01:00:00</td>\n",
       "    </tr>\n",
       "  </tbody>\n",
       "</table>\n",
       "</div>"
      ],
      "text/plain": [
       "  Case ID  Outcome                  Activity            Timestamp\n",
       "0    A100        1               Create Fine  2006-08-02 01:00:00\n",
       "1    A100        1                 Send Fine  2006-12-12 01:00:00\n",
       "2    A100        1  Insert Fine Notification  2007-01-15 01:00:00\n",
       "3    A100        1               Add penalty  2007-03-16 01:00:00\n",
       "4  A10000        0               Create Fine  2007-03-09 01:00:00"
      ]
     },
     "execution_count": 8,
     "metadata": {},
     "output_type": "execute_result"
    }
   ],
   "source": [
    "activity_data = activity_data.rename(columns={'label': 'Outcome', 'Complete Timestamp': 'Timestamp'})\n",
    "activity_data.head()"
   ]
  },
  {
   "cell_type": "code",
   "execution_count": 9,
   "metadata": {},
   "outputs": [
    {
     "data": {
      "text/plain": [
       "10"
      ]
     },
     "execution_count": 9,
     "metadata": {},
     "output_type": "execute_result"
    }
   ],
   "source": [
    "len(activity_data['Activity'].unique())"
   ]
  },
  {
   "cell_type": "code",
   "execution_count": 10,
   "metadata": {},
   "outputs": [
    {
     "data": {
      "text/plain": [
       "3.5532615823785827"
      ]
     },
     "execution_count": 10,
     "metadata": {},
     "output_type": "execute_result"
    }
   ],
   "source": [
    "np.mean(activity_data.groupby('Case ID').count()['Activity'])"
   ]
  },
  {
   "cell_type": "code",
   "execution_count": 13,
   "metadata": {},
   "outputs": [],
   "source": [
    "activity_data.to_csv(DESTINATION_DATA, index=False)"
   ]
  },
  {
   "cell_type": "code",
   "execution_count": null,
   "metadata": {},
   "outputs": [],
   "source": []
  }
 ],
 "metadata": {
  "kernelspec": {
   "display_name": "Python 3 (ipykernel)",
   "language": "python",
   "name": "python3"
  },
  "language_info": {
   "codemirror_mode": {
    "name": "ipython",
    "version": 3
   },
   "file_extension": ".py",
   "mimetype": "text/x-python",
   "name": "python",
   "nbconvert_exporter": "python",
   "pygments_lexer": "ipython3",
   "version": "3.8.16"
  }
 },
 "nbformat": 4,
 "nbformat_minor": 1
}
{
 "cells": [
  {
   "cell_type": "markdown",
   "source": [
    "# Sepsis cases dataset preparation"
   ],
   "metadata": {
    "collapsed": false
   }
  },
  {
   "cell_type": "code",
   "execution_count": null,
   "outputs": [],
   "source": [
    "# Skip this cell, at first\n",
    "import os\n",
    "os.chdir('../..')\n",
    "os.getcwd()"
   ],
   "metadata": {
    "collapsed": false,
    "pycharm": {
     "name": "#%%\n"
    }
   }
  },
  {
   "cell_type": "code",
   "execution_count": 1,
   "metadata": {
    "pycharm": {
     "is_executing": true
    }
   },
   "outputs": [],
   "source": [
    "import pandas as pd\n",
    "import numpy as np\n",
    "from CI_Experiments.config import PROJECT_DIR # if this line results ModuleNotFoundError, then execute the cell above"
   ]
  },
  {
   "cell_type": "code",
   "execution_count": 2,
   "metadata": {},
   "outputs": [],
   "source": [
    "UNPREPARED_PATH = PROJECT_DIR / 'data/unprepared_process_logs'\n",
    "SEPSIS_CASES_DATA = UNPREPARED_PATH / 'sepsis_cases.csv'\n",
    "DESTINATION_DATA = PROJECT_DIR / 'data/prepared_process_logs/sepsis_cases/activity/activity.csv'"
   ]
  },
  {
   "cell_type": "code",
   "execution_count": 3,
   "metadata": {},
   "outputs": [
    {
     "data": {
      "text/html": [
       "<div>\n",
       "<style scoped>\n",
       "    .dataframe tbody tr th:only-of-type {\n",
       "        vertical-align: middle;\n",
       "    }\n",
       "\n",
       "    .dataframe tbody tr th {\n",
       "        vertical-align: top;\n",
       "    }\n",
       "\n",
       "    .dataframe thead th {\n",
       "        text-align: right;\n",
       "    }\n",
       "</style>\n",
       "<table border=\"1\" class=\"dataframe\">\n",
       "  <thead>\n",
       "    <tr style=\"text-align: right;\">\n",
       "      <th></th>\n",
       "      <th>Diagnose</th>\n",
       "      <th>DiagnosticArtAstrup</th>\n",
       "      <th>DiagnosticBlood</th>\n",
       "      <th>DiagnosticECG</th>\n",
       "      <th>DiagnosticIC</th>\n",
       "      <th>DiagnosticLacticAcid</th>\n",
       "      <th>DiagnosticLiquor</th>\n",
       "      <th>DiagnosticOther</th>\n",
       "      <th>DiagnosticSputum</th>\n",
       "      <th>DiagnosticUrinaryCulture</th>\n",
       "      <th>...</th>\n",
       "      <th>time:timestamp</th>\n",
       "      <th>timesincemidnight</th>\n",
       "      <th>month</th>\n",
       "      <th>weekday</th>\n",
       "      <th>hour</th>\n",
       "      <th>timesincelastevent</th>\n",
       "      <th>timesincecasestart</th>\n",
       "      <th>event_nr</th>\n",
       "      <th>open_cases</th>\n",
       "      <th>label</th>\n",
       "    </tr>\n",
       "  </thead>\n",
       "  <tbody>\n",
       "    <tr>\n",
       "      <th>0</th>\n",
       "      <td>A</td>\n",
       "      <td>True</td>\n",
       "      <td>True</td>\n",
       "      <td>True</td>\n",
       "      <td>True</td>\n",
       "      <td>True</td>\n",
       "      <td>False</td>\n",
       "      <td>False</td>\n",
       "      <td>False</td>\n",
       "      <td>True</td>\n",
       "      <td>...</td>\n",
       "      <td>2014-10-22 09:15:41</td>\n",
       "      <td>555</td>\n",
       "      <td>10</td>\n",
       "      <td>2</td>\n",
       "      <td>9</td>\n",
       "      <td>0.000000</td>\n",
       "      <td>0.000000</td>\n",
       "      <td>1</td>\n",
       "      <td>81</td>\n",
       "      <td>regular</td>\n",
       "    </tr>\n",
       "    <tr>\n",
       "      <th>1</th>\n",
       "      <td>A</td>\n",
       "      <td>True</td>\n",
       "      <td>True</td>\n",
       "      <td>True</td>\n",
       "      <td>True</td>\n",
       "      <td>True</td>\n",
       "      <td>False</td>\n",
       "      <td>False</td>\n",
       "      <td>False</td>\n",
       "      <td>True</td>\n",
       "      <td>...</td>\n",
       "      <td>2014-10-22 09:27:00</td>\n",
       "      <td>567</td>\n",
       "      <td>10</td>\n",
       "      <td>2</td>\n",
       "      <td>9</td>\n",
       "      <td>0.000000</td>\n",
       "      <td>11.316667</td>\n",
       "      <td>2</td>\n",
       "      <td>81</td>\n",
       "      <td>regular</td>\n",
       "    </tr>\n",
       "    <tr>\n",
       "      <th>2</th>\n",
       "      <td>A</td>\n",
       "      <td>True</td>\n",
       "      <td>True</td>\n",
       "      <td>True</td>\n",
       "      <td>True</td>\n",
       "      <td>True</td>\n",
       "      <td>False</td>\n",
       "      <td>False</td>\n",
       "      <td>False</td>\n",
       "      <td>True</td>\n",
       "      <td>...</td>\n",
       "      <td>2014-10-22 09:27:00</td>\n",
       "      <td>567</td>\n",
       "      <td>10</td>\n",
       "      <td>2</td>\n",
       "      <td>9</td>\n",
       "      <td>0.000000</td>\n",
       "      <td>11.316667</td>\n",
       "      <td>3</td>\n",
       "      <td>81</td>\n",
       "      <td>regular</td>\n",
       "    </tr>\n",
       "    <tr>\n",
       "      <th>3</th>\n",
       "      <td>A</td>\n",
       "      <td>True</td>\n",
       "      <td>True</td>\n",
       "      <td>True</td>\n",
       "      <td>True</td>\n",
       "      <td>True</td>\n",
       "      <td>False</td>\n",
       "      <td>False</td>\n",
       "      <td>False</td>\n",
       "      <td>True</td>\n",
       "      <td>...</td>\n",
       "      <td>2014-10-22 09:27:00</td>\n",
       "      <td>567</td>\n",
       "      <td>10</td>\n",
       "      <td>2</td>\n",
       "      <td>9</td>\n",
       "      <td>11.316667</td>\n",
       "      <td>11.316667</td>\n",
       "      <td>4</td>\n",
       "      <td>81</td>\n",
       "      <td>regular</td>\n",
       "    </tr>\n",
       "    <tr>\n",
       "      <th>4</th>\n",
       "      <td>A</td>\n",
       "      <td>True</td>\n",
       "      <td>True</td>\n",
       "      <td>True</td>\n",
       "      <td>True</td>\n",
       "      <td>True</td>\n",
       "      <td>False</td>\n",
       "      <td>False</td>\n",
       "      <td>False</td>\n",
       "      <td>True</td>\n",
       "      <td>...</td>\n",
       "      <td>2014-10-22 09:33:37</td>\n",
       "      <td>573</td>\n",
       "      <td>10</td>\n",
       "      <td>2</td>\n",
       "      <td>9</td>\n",
       "      <td>6.616667</td>\n",
       "      <td>17.933333</td>\n",
       "      <td>5</td>\n",
       "      <td>81</td>\n",
       "      <td>regular</td>\n",
       "    </tr>\n",
       "  </tbody>\n",
       "</table>\n",
       "<p>5 rows × 40 columns</p>\n",
       "</div>"
      ],
      "text/plain": [
       "  Diagnose DiagnosticArtAstrup DiagnosticBlood DiagnosticECG DiagnosticIC  \\\n",
       "0        A                True            True          True         True   \n",
       "1        A                True            True          True         True   \n",
       "2        A                True            True          True         True   \n",
       "3        A                True            True          True         True   \n",
       "4        A                True            True          True         True   \n",
       "\n",
       "  DiagnosticLacticAcid DiagnosticLiquor DiagnosticOther DiagnosticSputum  \\\n",
       "0                 True            False           False            False   \n",
       "1                 True            False           False            False   \n",
       "2                 True            False           False            False   \n",
       "3                 True            False           False            False   \n",
       "4                 True            False           False            False   \n",
       "\n",
       "  DiagnosticUrinaryCulture  ...       time:timestamp timesincemidnight month  \\\n",
       "0                     True  ...  2014-10-22 09:15:41               555    10   \n",
       "1                     True  ...  2014-10-22 09:27:00               567    10   \n",
       "2                     True  ...  2014-10-22 09:27:00               567    10   \n",
       "3                     True  ...  2014-10-22 09:27:00               567    10   \n",
       "4                     True  ...  2014-10-22 09:33:37               573    10   \n",
       "\n",
       "  weekday hour timesincelastevent timesincecasestart event_nr open_cases  \\\n",
       "0       2    9           0.000000           0.000000        1         81   \n",
       "1       2    9           0.000000          11.316667        2         81   \n",
       "2       2    9           0.000000          11.316667        3         81   \n",
       "3       2    9          11.316667          11.316667        4         81   \n",
       "4       2    9           6.616667          17.933333        5         81   \n",
       "\n",
       "     label  \n",
       "0  regular  \n",
       "1  regular  \n",
       "2  regular  \n",
       "3  regular  \n",
       "4  regular  \n",
       "\n",
       "[5 rows x 40 columns]"
      ]
     },
     "execution_count": 3,
     "metadata": {},
     "output_type": "execute_result"
    }
   ],
   "source": [
    "unprepared_data = pd.read_csv(SEPSIS_CASES_DATA, sep=';')\n",
    "unprepared_data.head()"
   ]
  },
  {
   "cell_type": "code",
   "execution_count": 4,
   "metadata": {},
   "outputs": [
    {
     "data": {
      "text/plain": [
       "Index(['Diagnose', 'DiagnosticArtAstrup', 'DiagnosticBlood', 'DiagnosticECG',\n",
       "       'DiagnosticIC', 'DiagnosticLacticAcid', 'DiagnosticLiquor',\n",
       "       'DiagnosticOther', 'DiagnosticSputum', 'DiagnosticUrinaryCulture',\n",
       "       'DiagnosticUrinarySediment', 'DiagnosticXthorax', 'DisfuncOrg',\n",
       "       'Hypotensie', 'Hypoxie', 'InfectionSuspected', 'Infusion', 'Oligurie',\n",
       "       'SIRSCritHeartRate', 'SIRSCritLeucos', 'SIRSCritTachypnea',\n",
       "       'SIRSCritTemperature', 'SIRSCriteria2OrMore', 'Age', 'Case ID',\n",
       "       'Activity', 'org:group', 'CRP', 'LacticAcid', 'Leucocytes',\n",
       "       'time:timestamp', 'timesincemidnight', 'month', 'weekday', 'hour',\n",
       "       'timesincelastevent', 'timesincecasestart', 'event_nr', 'open_cases',\n",
       "       'label'],\n",
       "      dtype='object')"
      ]
     },
     "execution_count": 4,
     "metadata": {},
     "output_type": "execute_result"
    }
   ],
   "source": [
    "unprepared_data.columns"
   ]
  },
  {
   "cell_type": "code",
   "execution_count": 5,
   "metadata": {},
   "outputs": [],
   "source": [
    "four_columns_for_activity = [\n",
    "    'Case ID',\n",
    "    'label',\n",
    "    'Activity',\n",
    "    'time:timestamp'\n",
    "]"
   ]
  },
  {
   "cell_type": "code",
   "execution_count": 6,
   "metadata": {},
   "outputs": [
    {
     "data": {
      "text/html": [
       "<div>\n",
       "<style scoped>\n",
       "    .dataframe tbody tr th:only-of-type {\n",
       "        vertical-align: middle;\n",
       "    }\n",
       "\n",
       "    .dataframe tbody tr th {\n",
       "        vertical-align: top;\n",
       "    }\n",
       "\n",
       "    .dataframe thead th {\n",
       "        text-align: right;\n",
       "    }\n",
       "</style>\n",
       "<table border=\"1\" class=\"dataframe\">\n",
       "  <thead>\n",
       "    <tr style=\"text-align: right;\">\n",
       "      <th></th>\n",
       "      <th>Case ID</th>\n",
       "      <th>label</th>\n",
       "      <th>Activity</th>\n",
       "      <th>time:timestamp</th>\n",
       "    </tr>\n",
       "  </thead>\n",
       "  <tbody>\n",
       "    <tr>\n",
       "      <th>0</th>\n",
       "      <td>A</td>\n",
       "      <td>regular</td>\n",
       "      <td>ER Registration</td>\n",
       "      <td>2014-10-22 09:15:41</td>\n",
       "    </tr>\n",
       "    <tr>\n",
       "      <th>1</th>\n",
       "      <td>A</td>\n",
       "      <td>regular</td>\n",
       "      <td>Leucocytes</td>\n",
       "      <td>2014-10-22 09:27:00</td>\n",
       "    </tr>\n",
       "    <tr>\n",
       "      <th>2</th>\n",
       "      <td>A</td>\n",
       "      <td>regular</td>\n",
       "      <td>CRP</td>\n",
       "      <td>2014-10-22 09:27:00</td>\n",
       "    </tr>\n",
       "    <tr>\n",
       "      <th>3</th>\n",
       "      <td>A</td>\n",
       "      <td>regular</td>\n",
       "      <td>LacticAcid</td>\n",
       "      <td>2014-10-22 09:27:00</td>\n",
       "    </tr>\n",
       "    <tr>\n",
       "      <th>4</th>\n",
       "      <td>A</td>\n",
       "      <td>regular</td>\n",
       "      <td>ER Triage</td>\n",
       "      <td>2014-10-22 09:33:37</td>\n",
       "    </tr>\n",
       "  </tbody>\n",
       "</table>\n",
       "</div>"
      ],
      "text/plain": [
       "  Case ID    label         Activity       time:timestamp\n",
       "0       A  regular  ER Registration  2014-10-22 09:15:41\n",
       "1       A  regular       Leucocytes  2014-10-22 09:27:00\n",
       "2       A  regular              CRP  2014-10-22 09:27:00\n",
       "3       A  regular       LacticAcid  2014-10-22 09:27:00\n",
       "4       A  regular        ER Triage  2014-10-22 09:33:37"
      ]
     },
     "execution_count": 6,
     "metadata": {},
     "output_type": "execute_result"
    }
   ],
   "source": [
    "activity_data = unprepared_data[four_columns_for_activity]\n",
    "activity_data.head()"
   ]
  },
  {
   "cell_type": "code",
   "execution_count": 7,
   "metadata": {},
   "outputs": [
    {
     "name": "stderr",
     "output_type": "stream",
     "text": [
      "/var/folders/2v/0cy8xvx12vl1y6x611k263_w0000gn/T/ipykernel_84670/2959549615.py:1: SettingWithCopyWarning: \n",
      "A value is trying to be set on a copy of a slice from a DataFrame.\n",
      "Try using .loc[row_indexer,col_indexer] = value instead\n",
      "\n",
      "See the caveats in the documentation: https://pandas.pydata.org/pandas-docs/stable/user_guide/indexing.html#returning-a-view-versus-a-copy\n",
      "  activity_data['label'] = np.where(activity_data['label'] == 'deviant', 1, 0)\n"
     ]
    },
    {
     "data": {
      "text/html": [
       "<div>\n",
       "<style scoped>\n",
       "    .dataframe tbody tr th:only-of-type {\n",
       "        vertical-align: middle;\n",
       "    }\n",
       "\n",
       "    .dataframe tbody tr th {\n",
       "        vertical-align: top;\n",
       "    }\n",
       "\n",
       "    .dataframe thead th {\n",
       "        text-align: right;\n",
       "    }\n",
       "</style>\n",
       "<table border=\"1\" class=\"dataframe\">\n",
       "  <thead>\n",
       "    <tr style=\"text-align: right;\">\n",
       "      <th></th>\n",
       "      <th>Case ID</th>\n",
       "      <th>label</th>\n",
       "      <th>Activity</th>\n",
       "      <th>time:timestamp</th>\n",
       "    </tr>\n",
       "  </thead>\n",
       "  <tbody>\n",
       "    <tr>\n",
       "      <th>0</th>\n",
       "      <td>A</td>\n",
       "      <td>0</td>\n",
       "      <td>ER Registration</td>\n",
       "      <td>2014-10-22 09:15:41</td>\n",
       "    </tr>\n",
       "    <tr>\n",
       "      <th>1</th>\n",
       "      <td>A</td>\n",
       "      <td>0</td>\n",
       "      <td>Leucocytes</td>\n",
       "      <td>2014-10-22 09:27:00</td>\n",
       "    </tr>\n",
       "    <tr>\n",
       "      <th>2</th>\n",
       "      <td>A</td>\n",
       "      <td>0</td>\n",
       "      <td>CRP</td>\n",
       "      <td>2014-10-22 09:27:00</td>\n",
       "    </tr>\n",
       "    <tr>\n",
       "      <th>3</th>\n",
       "      <td>A</td>\n",
       "      <td>0</td>\n",
       "      <td>LacticAcid</td>\n",
       "      <td>2014-10-22 09:27:00</td>\n",
       "    </tr>\n",
       "    <tr>\n",
       "      <th>4</th>\n",
       "      <td>A</td>\n",
       "      <td>0</td>\n",
       "      <td>ER Triage</td>\n",
       "      <td>2014-10-22 09:33:37</td>\n",
       "    </tr>\n",
       "  </tbody>\n",
       "</table>\n",
       "</div>"
      ],
      "text/plain": [
       "  Case ID  label         Activity       time:timestamp\n",
       "0       A      0  ER Registration  2014-10-22 09:15:41\n",
       "1       A      0       Leucocytes  2014-10-22 09:27:00\n",
       "2       A      0              CRP  2014-10-22 09:27:00\n",
       "3       A      0       LacticAcid  2014-10-22 09:27:00\n",
       "4       A      0        ER Triage  2014-10-22 09:33:37"
      ]
     },
     "execution_count": 7,
     "metadata": {},
     "output_type": "execute_result"
    }
   ],
   "source": [
    "activity_data['label'] = np.where(activity_data['label'] == 'deviant', 1, 0)\n",
    "activity_data.head()"
   ]
  },
  {
   "cell_type": "code",
   "execution_count": 8,
   "metadata": {},
   "outputs": [
    {
     "data": {
      "text/html": [
       "<div>\n",
       "<style scoped>\n",
       "    .dataframe tbody tr th:only-of-type {\n",
       "        vertical-align: middle;\n",
       "    }\n",
       "\n",
       "    .dataframe tbody tr th {\n",
       "        vertical-align: top;\n",
       "    }\n",
       "\n",
       "    .dataframe thead th {\n",
       "        text-align: right;\n",
       "    }\n",
       "</style>\n",
       "<table border=\"1\" class=\"dataframe\">\n",
       "  <thead>\n",
       "    <tr style=\"text-align: right;\">\n",
       "      <th></th>\n",
       "      <th>Case ID</th>\n",
       "      <th>Outcome</th>\n",
       "      <th>Activity</th>\n",
       "      <th>Timestamp</th>\n",
       "    </tr>\n",
       "  </thead>\n",
       "  <tbody>\n",
       "    <tr>\n",
       "      <th>0</th>\n",
       "      <td>A</td>\n",
       "      <td>0</td>\n",
       "      <td>ER Registration</td>\n",
       "      <td>2014-10-22 09:15:41</td>\n",
       "    </tr>\n",
       "    <tr>\n",
       "      <th>1</th>\n",
       "      <td>A</td>\n",
       "      <td>0</td>\n",
       "      <td>Leucocytes</td>\n",
       "      <td>2014-10-22 09:27:00</td>\n",
       "    </tr>\n",
       "    <tr>\n",
       "      <th>2</th>\n",
       "      <td>A</td>\n",
       "      <td>0</td>\n",
       "      <td>CRP</td>\n",
       "      <td>2014-10-22 09:27:00</td>\n",
       "    </tr>\n",
       "    <tr>\n",
       "      <th>3</th>\n",
       "      <td>A</td>\n",
       "      <td>0</td>\n",
       "      <td>LacticAcid</td>\n",
       "      <td>2014-10-22 09:27:00</td>\n",
       "    </tr>\n",
       "    <tr>\n",
       "      <th>4</th>\n",
       "      <td>A</td>\n",
       "      <td>0</td>\n",
       "      <td>ER Triage</td>\n",
       "      <td>2014-10-22 09:33:37</td>\n",
       "    </tr>\n",
       "  </tbody>\n",
       "</table>\n",
       "</div>"
      ],
      "text/plain": [
       "  Case ID  Outcome         Activity            Timestamp\n",
       "0       A        0  ER Registration  2014-10-22 09:15:41\n",
       "1       A        0       Leucocytes  2014-10-22 09:27:00\n",
       "2       A        0              CRP  2014-10-22 09:27:00\n",
       "3       A        0       LacticAcid  2014-10-22 09:27:00\n",
       "4       A        0        ER Triage  2014-10-22 09:33:37"
      ]
     },
     "execution_count": 8,
     "metadata": {},
     "output_type": "execute_result"
    }
   ],
   "source": [
    "activity_data = activity_data.rename(columns={'label': 'Outcome', 'time:timestamp': 'Timestamp'})\n",
    "activity_data.head()"
   ]
  },
  {
   "cell_type": "code",
   "execution_count": 9,
   "metadata": {},
   "outputs": [
    {
     "data": {
      "text/plain": [
       "15"
      ]
     },
     "execution_count": 9,
     "metadata": {},
     "output_type": "execute_result"
    }
   ],
   "source": [
    "len(activity_data['Activity'].unique())"
   ]
  },
  {
   "cell_type": "code",
   "execution_count": 10,
   "metadata": {},
   "outputs": [
    {
     "data": {
      "text/plain": [
       "16.77749360613811"
      ]
     },
     "execution_count": 10,
     "metadata": {},
     "output_type": "execute_result"
    }
   ],
   "source": [
    "np.mean(activity_data.groupby('Case ID').count()['Activity'])"
   ]
  },
  {
   "cell_type": "code",
   "execution_count": 11,
   "metadata": {},
   "outputs": [],
   "source": [
    "activity_data.to_csv(DESTINATION_DATA, index=False)"
   ]
  },
  {
   "cell_type": "code",
   "execution_count": null,
   "metadata": {},
   "outputs": [],
   "source": []
  }
 ],
 "metadata": {
  "kernelspec": {
   "display_name": "Python 3 (ipykernel)",
   "language": "python",
   "name": "python3"
  },
  "language_info": {
   "codemirror_mode": {
    "name": "ipython",
    "version": 3
   },
   "file_extension": ".py",
   "mimetype": "text/x-python",
   "name": "python",
   "nbconvert_exporter": "python",
   "pygments_lexer": "ipython3",
   "version": "3.8.16"
  }
 },
 "nbformat": 4,
 "nbformat_minor": 1
}